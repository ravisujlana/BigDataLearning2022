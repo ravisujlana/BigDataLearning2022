{
 "cells": [
  {
   "cell_type": "code",
   "execution_count": 1,
   "id": "8b3c6df3",
   "metadata": {},
   "outputs": [],
   "source": [
    "from pyspark.sql import SparkSession\n",
    "from pyspark.sql.functions import lit, col, explode\n",
    "import pyspark.sql.functions as f\n",
    "spark = SparkSession.builder.appName(\"ETL Pipeline\").getOrCreate()\n",
    "df = spark.read.text(\"WordData.txt\")"
   ]
  },
  {
   "cell_type": "code",
   "execution_count": 2,
   "id": "5044156c",
   "metadata": {},
   "outputs": [
    {
     "name": "stderr",
     "output_type": "stream",
     "text": [
      "\r",
      "[Stage 0:>                                                          (0 + 1) / 1]\r"
     ]
    },
    {
     "name": "stdout",
     "output_type": "stream",
     "text": [
      "+--------------------+\n",
      "|               value|\n",
      "+--------------------+\n",
      "|This is a Japanes...|\n",
      "|The team members ...|\n",
      "|As the years pass...|\n",
      "|If you don't like...|\n",
      "|He was disappoint...|\n",
      "|When he encounter...|\n",
      "|Situps are a terr...|\n",
      "|Toddlers feeding ...|\n",
      "|Edith could decid...|\n",
      "|Her daily goal wa...|\n",
      "|Tomorrow will bri...|\n",
      "|His son quipped t...|\n",
      "|He wondered why a...|\n",
      "|If my calculator ...|\n",
      "|The hummingbird's...|\n",
      "|He went on a whis...|\n",
      "|This is the last ...|\n",
      "|I come from a tri...|\n",
      "|The delicious aro...|\n",
      "|Weather is not tr...|\n",
      "+--------------------+\n",
      "only showing top 20 rows\n",
      "\n"
     ]
    },
    {
     "name": "stderr",
     "output_type": "stream",
     "text": [
      "\r",
      "                                                                                \r"
     ]
    }
   ],
   "source": [
    "df.show()"
   ]
  },
  {
   "cell_type": "code",
   "execution_count": 3,
   "id": "856096af",
   "metadata": {},
   "outputs": [
    {
     "name": "stdout",
     "output_type": "stream",
     "text": [
      "+--------------------+--------------------+\n",
      "|               value|         splitedData|\n",
      "+--------------------+--------------------+\n",
      "|This is a Japanes...|[This, is, a, Jap...|\n",
      "|The team members ...|[The, team, membe...|\n",
      "|As the years pass...|[As, the, years, ...|\n",
      "|If you don't like...|[If, you, don't, ...|\n",
      "|He was disappoint...|[He, was, disappo...|\n",
      "|When he encounter...|[When, he, encoun...|\n",
      "|Situps are a terr...|[Situps, are, a, ...|\n",
      "|Toddlers feeding ...|[Toddlers, feedin...|\n",
      "|Edith could decid...|[Edith, could, de...|\n",
      "|Her daily goal wa...|[Her, daily, goal...|\n",
      "|Tomorrow will bri...|[Tomorrow, will, ...|\n",
      "|His son quipped t...|[His, son, quippe...|\n",
      "|He wondered why a...|[He, wondered, wh...|\n",
      "|If my calculator ...|[If, my, calculat...|\n",
      "|The hummingbird's...|[The, hummingbird...|\n",
      "|He went on a whis...|[He, went, on, a,...|\n",
      "|This is the last ...|[This, is, the, l...|\n",
      "|I come from a tri...|[I, come, from, a...|\n",
      "|The delicious aro...|[The, delicious, ...|\n",
      "|Weather is not tr...|[Weather, is, not...|\n",
      "+--------------------+--------------------+\n",
      "only showing top 20 rows\n",
      "\n"
     ]
    }
   ],
   "source": [
    "#Transform\n",
    "\n",
    "df2 = df.withColumn(\"splitedData\", f.split(\"value\",\" \"))\n",
    "df2.show()"
   ]
  },
  {
   "cell_type": "code",
   "execution_count": 4,
   "id": "b227e133",
   "metadata": {},
   "outputs": [
    {
     "name": "stdout",
     "output_type": "stream",
     "text": [
      "+--------------------+--------------------+--------+\n",
      "|               value|         splitedData|   words|\n",
      "+--------------------+--------------------+--------+\n",
      "|This is a Japanes...|[This, is, a, Jap...|    This|\n",
      "|This is a Japanes...|[This, is, a, Jap...|      is|\n",
      "|This is a Japanes...|[This, is, a, Jap...|       a|\n",
      "|This is a Japanes...|[This, is, a, Jap...|Japanese|\n",
      "|This is a Japanes...|[This, is, a, Jap...|    doll|\n",
      "|The team members ...|[The, team, membe...|     The|\n",
      "|The team members ...|[The, team, membe...|    team|\n",
      "|The team members ...|[The, team, membe...| members|\n",
      "|The team members ...|[The, team, membe...|    were|\n",
      "|The team members ...|[The, team, membe...|    hard|\n",
      "|The team members ...|[The, team, membe...|      to|\n",
      "|The team members ...|[The, team, membe...|    tell|\n",
      "|The team members ...|[The, team, membe...|   apart|\n",
      "|The team members ...|[The, team, membe...|   since|\n",
      "|The team members ...|[The, team, membe...|    they|\n",
      "|The team members ...|[The, team, membe...|     all|\n",
      "|The team members ...|[The, team, membe...|    wore|\n",
      "|The team members ...|[The, team, membe...|   their|\n",
      "|The team members ...|[The, team, membe...|    hair|\n",
      "|The team members ...|[The, team, membe...|      in|\n",
      "+--------------------+--------------------+--------+\n",
      "only showing top 20 rows\n",
      "\n"
     ]
    }
   ],
   "source": [
    "df3 = df2.withColumn(\"words\", explode(\"splitedData\"))\n",
    "df3.show()"
   ]
  },
  {
   "cell_type": "code",
   "execution_count": 5,
   "id": "25a4343d",
   "metadata": {},
   "outputs": [
    {
     "name": "stderr",
     "output_type": "stream",
     "text": [
      "\r",
      "[Stage 3:>                                                          (0 + 1) / 1]\r"
     ]
    },
    {
     "name": "stdout",
     "output_type": "stream",
     "text": [
      "+-----------+-----+\n",
      "|      words|count|\n",
      "+-----------+-----+\n",
      "|   Tomorrow|    4|\n",
      "|         If|    8|\n",
      "|      leave|    4|\n",
      "|      corny|    4|\n",
      "|        day|    4|\n",
      "|preoccupied|    4|\n",
      "|       even|    8|\n",
      "|      crazy|    4|\n",
      "|    bananas|    4|\n",
      "|     priest|    4|\n",
      "|        did|    4|\n",
      "|    whether|    4|\n",
      "|     Having|    4|\n",
      "|        I'm|    4|\n",
      "|      crime|    4|\n",
      "|  surprised|    4|\n",
      "|      James|    4|\n",
      "|      could|    8|\n",
      "|        buy|    4|\n",
      "|        him|    8|\n",
      "+-----------+-----+\n",
      "only showing top 20 rows\n",
      "\n"
     ]
    },
    {
     "name": "stderr",
     "output_type": "stream",
     "text": [
      "\r",
      "                                                                                \r"
     ]
    }
   ],
   "source": [
    "wordsDF = df3.select(\"words\")\n",
    "wordsDF.groupBy(\"words\").count().show()\n",
    "wordCount = wordsDF.groupBy(\"words\").count()"
   ]
  },
  {
   "cell_type": "code",
   "execution_count": 35,
   "id": "4a700dc8",
   "metadata": {},
   "outputs": [],
   "source": [
    "driver = \"org.postgresql.Driver\"\n",
    "url = \"\"\n",
    "table = \"\"\n",
    "user = \"\"\n",
    "password = \"\"\n",
    "wordCount.write.format(\"jdbc\").option(\"driver\", driver).option(\"url\",url).option(\"dbtable\", table).option(\"mode\", \"append\").option(\"user\",user).option(\"password\", password).save()"
   ]
  },
  {
   "cell_type": "code",
   "execution_count": null,
   "id": "870730ca",
   "metadata": {},
   "outputs": [],
   "source": []
  }
 ],
 "metadata": {
  "kernelspec": {
   "display_name": "Python 3 (ipykernel)",
   "language": "python",
   "name": "python3"
  },
  "language_info": {
   "codemirror_mode": {
    "name": "ipython",
    "version": 3
   },
   "file_extension": ".py",
   "mimetype": "text/x-python",
   "name": "python",
   "nbconvert_exporter": "python",
   "pygments_lexer": "ipython3",
   "version": "3.9.7"
  }
 },
 "nbformat": 4,
 "nbformat_minor": 5
}
