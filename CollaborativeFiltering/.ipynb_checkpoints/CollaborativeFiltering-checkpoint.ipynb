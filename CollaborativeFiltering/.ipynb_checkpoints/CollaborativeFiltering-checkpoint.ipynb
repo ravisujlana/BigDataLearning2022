{
 "cells": [
  {
   "cell_type": "code",
   "execution_count": null,
   "id": "f80bb706",
   "metadata": {},
   "outputs": [],
   "source": [
    "from pyspark.sql import SparkSession\n",
    "from pyspark.sql.types import  IntegerType\n",
    "from pyspark.sql.functions import udf\n",
    "\n",
    "ss = SparkSession.builder.appName(\"Spark Data Frame Example\").getOrCreate()\n",
    "moviesDF = ss.read.options(inferSchema='True', header='True').csv('movies.csv')\n",
    "ratingDF = ss.read.options(inferSchema='True', header='True').csv('ratings.csv')\n",
    "\n",
    "df.printSchema()"
   ]
  }
 ],
 "metadata": {
  "kernelspec": {
   "display_name": "Python 3 (ipykernel)",
   "language": "python",
   "name": "python3"
  },
  "language_info": {
   "codemirror_mode": {
    "name": "ipython",
    "version": 3
   },
   "file_extension": ".py",
   "mimetype": "text/x-python",
   "name": "python",
   "nbconvert_exporter": "python",
   "pygments_lexer": "ipython3",
   "version": "3.9.7"
  }
 },
 "nbformat": 4,
 "nbformat_minor": 5
}
