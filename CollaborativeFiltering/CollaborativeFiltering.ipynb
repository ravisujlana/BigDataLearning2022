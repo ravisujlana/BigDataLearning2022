{
 "cells": [
  {
   "cell_type": "code",
   "execution_count": 21,
   "id": "9813bcff",
   "metadata": {},
   "outputs": [],
   "source": [
    "from pyspark.sql import SparkSession\n",
    "from pyspark.ml.recommendation import ALS\n",
    "from pyspark.ml.evaluation import RegressionEvaluator\n",
    "from pyspark.ml.tuning import ParamGridBuilder, CrossValidator\n",
    "from pyspark.sql.functions import col,explode\n",
    "\n",
    "ss = SparkSession.builder.appName(\"Collaborative Filtering - Recommendation Engine\").getOrCreate()\n",
    "moviesDF = ss.read.options(inferSchema='True', header='True').csv('movies.csv')\n",
    "ratingDF = ss.read.options(inferSchema='True', header='True').csv('ratings.csv')\n",
    "\n",
    "#ratingDF.printSchema()\n",
    "#moviesDF.printSchema()"
   ]
  },
  {
   "cell_type": "code",
   "execution_count": 22,
   "id": "ee8fbd16",
   "metadata": {},
   "outputs": [],
   "source": [
    "ratings = ratingDF.join(moviesDF,\"movieId\",\"left\")\n",
    "(train,test) = ratings.randomSplit([0.8,0.2])"
   ]
  },
  {
   "cell_type": "code",
   "execution_count": 23,
   "id": "fced28f6",
   "metadata": {},
   "outputs": [],
   "source": [
    "#ratings.count()\n"
   ]
  },
  {
   "cell_type": "code",
   "execution_count": 24,
   "id": "09dc3554",
   "metadata": {},
   "outputs": [],
   "source": [
    "#test.count()\n"
   ]
  },
  {
   "cell_type": "code",
   "execution_count": 27,
   "id": "eb6c28e7",
   "metadata": {},
   "outputs": [
    {
     "data": {
      "text/plain": [
       "DataFrame[movieId: int, userId: int, rating: double, timestamp: int, title: string, genres: string]"
      ]
     },
     "metadata": {},
     "output_type": "display_data"
    }
   ],
   "source": [
    "#train.count()\n",
    "display(ratings)"
   ]
  },
  {
   "cell_type": "code",
   "execution_count": 32,
   "id": "b6abf8f8",
   "metadata": {},
   "outputs": [],
   "source": [
    "als = ALS(userCol=\"userId\",itemCol =\"movieId\",ratingCol=\"rating\",nonnegative=True,implicitPrefs=False,coldStartStrategy=\"Drop\")"
   ]
  },
  {
   "cell_type": "code",
   "execution_count": 33,
   "id": "28a99ed3",
   "metadata": {},
   "outputs": [],
   "source": [
    "param_grid = ParamGridBuilder() \\\n",
    "            .addGrid(als.rank, [10, 50, 100, 150]) \\\n",
    "            .addGrid(als.regParam, [.01, .05, .1, .15]) \\\n",
    "            .build()"
   ]
  },
  {
   "cell_type": "code",
   "execution_count": 34,
   "id": "8e9b43f4",
   "metadata": {},
   "outputs": [],
   "source": [
    "evaluator = RegressionEvaluator(\n",
    "           metricName=\"rmse\", \n",
    "           labelCol=\"rating\", \n",
    "           predictionCol=\"prediction\")\n"
   ]
  },
  {
   "cell_type": "code",
   "execution_count": 35,
   "id": "e5d8d046",
   "metadata": {},
   "outputs": [],
   "source": [
    "cv = CrossValidator(estimator=als, estimatorParamMaps=param_grid, evaluator=evaluator, numFolds=5)\n"
   ]
  },
  {
   "cell_type": "code",
   "execution_count": 36,
   "id": "fb75d5a2",
   "metadata": {},
   "outputs": [
    {
     "name": "stderr",
     "output_type": "stream",
     "text": [
      "22/01/25 12:18:50 WARN CacheManager: Asked to cache already cached data.\n",
      "22/01/25 12:18:50 WARN CacheManager: Asked to cache already cached data.\n",
      "22/01/25 12:18:56 WARN InstanceBuilder$NativeBLAS: Failed to load implementation from:dev.ludovic.netlib.blas.JNIBLAS\n",
      "22/01/25 12:18:56 WARN InstanceBuilder$NativeBLAS: Failed to load implementation from:dev.ludovic.netlib.blas.ForeignLinkerBLAS\n",
      "                                                                                \r"
     ]
    },
    {
     "name": "stdout",
     "output_type": "stream",
     "text": [
      "0.8618574095283522\n"
     ]
    }
   ],
   "source": [
    "model = cv.fit(train)\n",
    "best_model = model.bestModel\n",
    "test_predictions = best_model.transform(test)\n",
    "RMSE = evaluator.evaluate(test_predictions)\n",
    "print(RMSE)\n"
   ]
  },
  {
   "cell_type": "code",
   "execution_count": 38,
   "id": "09a8895e",
   "metadata": {},
   "outputs": [
    {
     "name": "stderr",
     "output_type": "stream",
     "text": [
      "                                                                                \r"
     ]
    },
    {
     "name": "stdout",
     "output_type": "stream",
     "text": [
      "+------+--------------------+\n",
      "|userId|     recommendations|\n",
      "+------+--------------------+\n",
      "|     1|[{170355, 5.90361...|\n",
      "|     2|[{170355, 4.79047...|\n",
      "|     3|[{6835, 4.8407235...|\n",
      "|     4|[{3851, 4.8461304...|\n",
      "|     5|[{170355, 4.80633...|\n",
      "|     6|[{33649, 4.688395...|\n",
      "|     7|[{5490, 4.6856084...|\n",
      "|     8|[{170355, 4.78006...|\n",
      "|     9|[{170355, 4.88653...|\n",
      "|    10|[{71579, 4.46295}...|\n",
      "|    11|[{170355, 5.08758...|\n",
      "|    12|[{67618, 5.578362...|\n",
      "|    13|[{170355, 5.24418...|\n",
      "|    14|[{170355, 4.41399...|\n",
      "|    15|[{60943, 4.366083...|\n",
      "|    16|[{170355, 4.56995...|\n",
      "|    17|[{170355, 5.20470...|\n",
      "|    18|[{170355, 4.99271...|\n",
      "|    19|[{170355, 4.05804...|\n",
      "|    20|[{170355, 4.99511...|\n",
      "+------+--------------------+\n",
      "only showing top 20 rows\n",
      "\n"
     ]
    },
    {
     "name": "stderr",
     "output_type": "stream",
     "text": [
      "[Stage 8538:===================================================> (97 + 2) / 100]\r"
     ]
    },
    {
     "name": "stdout",
     "output_type": "stream",
     "text": [
      "+------+--------------------+-------------------+\n",
      "|userId|     recommendations|     movieid_rating|\n",
      "+------+--------------------+-------------------+\n",
      "|     1|[{170355, 5.90361...| {170355, 5.903616}|\n",
      "|     1|[{170355, 5.90361...|   {3379, 5.903616}|\n",
      "|     1|[{170355, 5.90361...| {33649, 5.6599727}|\n",
      "|     1|[{170355, 5.90361...|   {5490, 5.484412}|\n",
      "|     1|[{170355, 5.90361...| {132333, 5.484412}|\n",
      "|     2|[{170355, 4.79047...|  {170355, 4.79047}|\n",
      "|     2|[{170355, 4.79047...|    {3379, 4.79047}|\n",
      "|     2|[{170355, 4.79047...|  {33649, 4.760414}|\n",
      "|     2|[{170355, 4.79047...| {117531, 4.619274}|\n",
      "|     2|[{170355, 4.79047...|   {7071, 4.619274}|\n",
      "|     3|[{6835, 4.8407235...|  {6835, 4.8407235}|\n",
      "|     3|[{6835, 4.8407235...|  {5181, 4.8407235}|\n",
      "|     3|[{6835, 4.8407235...| {70946, 4.8212543}|\n",
      "|     3|[{6835, 4.8407235...|   {5919, 4.739641}|\n",
      "|     3|[{6835, 4.8407235...|   {7991, 4.618826}|\n",
      "|     4|[{3851, 4.8461304...|  {3851, 4.8461304}|\n",
      "|     4|[{3851, 4.8461304...|  {5490, 4.7504883}|\n",
      "|     4|[{3851, 4.8461304...|{132333, 4.7504883}|\n",
      "|     4|[{3851, 4.8461304...|   {2204, 4.741677}|\n",
      "|     4|[{3851, 4.8461304...|   {3365, 4.714188}|\n",
      "+------+--------------------+-------------------+\n",
      "only showing top 20 rows\n",
      "\n"
     ]
    },
    {
     "name": "stderr",
     "output_type": "stream",
     "text": [
      "\r",
      "                                                                                \r"
     ]
    },
    {
     "data": {
      "text/plain": [
       "DataFrame[userId: int, movieId: int, rating: float]"
      ]
     },
     "metadata": {},
     "output_type": "display_data"
    },
    {
     "name": "stderr",
     "output_type": "stream",
     "text": [
      "[Stage 8587:==================================================>  (96 + 2) / 100]\r"
     ]
    },
    {
     "name": "stdout",
     "output_type": "stream",
     "text": [
      "+------+--------------------+-------------------+\n",
      "|userId|     recommendations|     movieid_rating|\n",
      "+------+--------------------+-------------------+\n",
      "|     1|[{170355, 5.90361...| {170355, 5.903616}|\n",
      "|     1|[{170355, 5.90361...|   {3379, 5.903616}|\n",
      "|     1|[{170355, 5.90361...| {33649, 5.6599727}|\n",
      "|     1|[{170355, 5.90361...|   {5490, 5.484412}|\n",
      "|     1|[{170355, 5.90361...| {132333, 5.484412}|\n",
      "|     2|[{170355, 4.79047...|  {170355, 4.79047}|\n",
      "|     2|[{170355, 4.79047...|    {3379, 4.79047}|\n",
      "|     2|[{170355, 4.79047...|  {33649, 4.760414}|\n",
      "|     2|[{170355, 4.79047...| {117531, 4.619274}|\n",
      "|     2|[{170355, 4.79047...|   {7071, 4.619274}|\n",
      "|     3|[{6835, 4.8407235...|  {6835, 4.8407235}|\n",
      "|     3|[{6835, 4.8407235...|  {5181, 4.8407235}|\n",
      "|     3|[{6835, 4.8407235...| {70946, 4.8212543}|\n",
      "|     3|[{6835, 4.8407235...|   {5919, 4.739641}|\n",
      "|     3|[{6835, 4.8407235...|   {7991, 4.618826}|\n",
      "|     4|[{3851, 4.8461304...|  {3851, 4.8461304}|\n",
      "|     4|[{3851, 4.8461304...|  {5490, 4.7504883}|\n",
      "|     4|[{3851, 4.8461304...|{132333, 4.7504883}|\n",
      "|     4|[{3851, 4.8461304...|   {2204, 4.741677}|\n",
      "|     4|[{3851, 4.8461304...|   {3365, 4.714188}|\n",
      "+------+--------------------+-------------------+\n",
      "only showing top 20 rows\n",
      "\n"
     ]
    },
    {
     "name": "stderr",
     "output_type": "stream",
     "text": [
      "\r",
      "                                                                                \r"
     ]
    }
   ],
   "source": [
    "recommendations = best_model.recommendForAllUsers(5)\n",
    "df = recommendations\n",
    "df.show()\n",
    "df2 = df.withColumn(\"movieid_rating\", explode(\"recommendations\"))\n",
    "df2.show()\n",
    "display(df2.select(\"userId\", col(\"movieid_rating.movieId\"), col(\"movieid_rating.rating\")))\n",
    "df2.show()\n",
    "\n"
   ]
  },
  {
   "cell_type": "code",
   "execution_count": null,
   "id": "b338786f",
   "metadata": {},
   "outputs": [],
   "source": []
  }
 ],
 "metadata": {
  "kernelspec": {
   "display_name": "Python 3 (ipykernel)",
   "language": "python",
   "name": "python3"
  },
  "language_info": {
   "codemirror_mode": {
    "name": "ipython",
    "version": 3
   },
   "file_extension": ".py",
   "mimetype": "text/x-python",
   "name": "python",
   "nbconvert_exporter": "python",
   "pygments_lexer": "ipython3",
   "version": "3.9.7"
  }
 },
 "nbformat": 4,
 "nbformat_minor": 5
}
