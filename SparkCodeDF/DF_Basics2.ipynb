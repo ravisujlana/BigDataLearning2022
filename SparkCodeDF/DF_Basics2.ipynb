{
 "cells": [
  {
   "cell_type": "code",
   "execution_count": 38,
   "id": "3fd6078b",
   "metadata": {},
   "outputs": [
    {
     "name": "stdout",
     "output_type": "stream",
     "text": [
      "root\n",
      " |-- age: integer (nullable = true)\n",
      " |-- gender: string (nullable = true)\n",
      " |-- name: string (nullable = true)\n",
      " |-- course: string (nullable = true)\n",
      " |-- roll: integer (nullable = true)\n",
      " |-- marks: integer (nullable = true)\n",
      " |-- email: string (nullable = true)\n",
      "\n"
     ]
    }
   ],
   "source": [
    "from pyspark.sql import SparkSession\n",
    "from pyspark.sql.types import StructType, StructField, StringType, IntegerType\n",
    "from pyspark.sql.functions import col, lit,round\n",
    "\n",
    "ss = SparkSession.builder.appName(\"Spark Data Frame Example\").getOrCreate()\n",
    "df = ss.read.options(inferSchema='True', header='True').csv('StudentData.csv')\n",
    "\n",
    "df.printSchema()"
   ]
  },
  {
   "cell_type": "code",
   "execution_count": 39,
   "id": "5af6b161",
   "metadata": {},
   "outputs": [
    {
     "data": {
      "text/plain": [
       "24"
      ]
     },
     "execution_count": 39,
     "metadata": {},
     "output_type": "execute_result"
    }
   ],
   "source": [
    "df2 = df.select([\"age\",\"gender\",\"course\"])\n",
    "df2.distinct().count()"
   ]
  },
  {
   "cell_type": "code",
   "execution_count": 40,
   "id": "9689e56a",
   "metadata": {},
   "outputs": [
    {
     "data": {
      "text/plain": [
       "24"
      ]
     },
     "execution_count": 40,
     "metadata": {},
     "output_type": "execute_result"
    }
   ],
   "source": [
    "df3 = df.dropDuplicates([\"age\",\"gender\",\"course\"])\n",
    "df3.count()"
   ]
  },
  {
   "cell_type": "code",
   "execution_count": 41,
   "id": "5788d469",
   "metadata": {},
   "outputs": [
    {
     "name": "stdout",
     "output_type": "stream",
     "text": [
      "+---+------+-----------------+------+-------+-----+--------------------+\n",
      "|age|gender|             name|course|   roll|marks|               email|\n",
      "+---+------+-----------------+------+-------+-----+--------------------+\n",
      "| 28|  Male|  Marylee Capasso|   DSA|2081560|   20|Sheryll Towler_Do...|\n",
      "| 28|Female|   Maybell Duguay| Cloud| 261439|   20|Nicole Harwood_Ju...|\n",
      "| 28|Female|     Jc Andrepont|    PF| 972733|   20|Eda Neathery_Eda ...|\n",
      "| 29|Female|   Tamera Blakley|   DSA|3911247|   20|Donna Yerby_Bonit...|\n",
      "| 29|  Male|   Jalisa Swenson|   OOP|4751515|   20|Annika Hoffman_Hu...|\n",
      "| 29|Female|  Gonzalo Ferebee|   DSA|5631172|   20|Jeannetta Golden_...|\n",
      "| 29|  Male|Michelle Ruggiero|    PF|6001585|   20|Paris Hutton_Marg...|\n",
      "| 29|Female|Michelle Ruggiero|    DB|9232210|   20|Donna Yerby_Latia...|\n",
      "| 29|  Male|     Elenore Choy|    DB|3652057|   20|Jc Andrepont_Gonz...|\n",
      "| 28|  Male|      Abram Nagao| Cloud|2652463|   21|Eda Neathery_Anni...|\n",
      "| 28|  Male|   Bonita Higuera| Cloud|7671835|   21|Taryn Brownlee_Se...|\n",
      "| 28|Female|  Sebrina Maresca|    PF|5742239|   21|Bonita Higuera_Se...|\n",
      "| 28|  Male|    Kizzy Brenner| Cloud|4622328|   21|Leontine Phillips...|\n",
      "| 28|  Male|      Billi Clore|    DB|9151306|   21|Latia Vanhoose_Er...|\n",
      "| 29|  Male|  Sebrina Maresca| Cloud|5042394|   21|Donna Yerby_Miche...|\n",
      "| 29|Female|  Gonzalo Ferebee|   OOP|2262603|   21|Bonita Higuera_Ch...|\n",
      "| 29|  Male|   Tamera Blakley|   OOP|7341268|   21|Anna Santos_Naoma...|\n",
      "| 29|Female|   Alberta Freund|   OOP|4501424|   21|Toshiko Hillyard_...|\n",
      "| 29|Female|   Nicole Harwood|    PF|8121198|   21|Bonita Higuera_Pr...|\n",
      "| 28|Female|     Cheri Kenney| Cloud|2281771|   22|Tamera Blakley_Ab...|\n",
      "+---+------+-----------------+------+-------+-----+--------------------+\n",
      "only showing top 20 rows\n",
      "\n"
     ]
    }
   ],
   "source": [
    "df.sort(\"marks\",\"age\").show()"
   ]
  },
  {
   "cell_type": "code",
   "execution_count": 42,
   "id": "0b4bc5b3",
   "metadata": {},
   "outputs": [
    {
     "name": "stdout",
     "output_type": "stream",
     "text": [
      "+---+------+-----------------+------+-------+-----+--------------------+\n",
      "|age|gender|             name|course|   roll|marks|               email|\n",
      "+---+------+-----------------+------+-------+-----+--------------------+\n",
      "| 28|  Male|  Marylee Capasso|   DSA|2081560|   20|Sheryll Towler_Do...|\n",
      "| 28|Female|   Maybell Duguay| Cloud| 261439|   20|Nicole Harwood_Ju...|\n",
      "| 28|Female|     Jc Andrepont|    PF| 972733|   20|Eda Neathery_Eda ...|\n",
      "| 29|Female|   Tamera Blakley|   DSA|3911247|   20|Donna Yerby_Bonit...|\n",
      "| 29|  Male|   Jalisa Swenson|   OOP|4751515|   20|Annika Hoffman_Hu...|\n",
      "| 29|Female|  Gonzalo Ferebee|   DSA|5631172|   20|Jeannetta Golden_...|\n",
      "| 29|  Male|Michelle Ruggiero|    PF|6001585|   20|Paris Hutton_Marg...|\n",
      "| 29|Female|Michelle Ruggiero|    DB|9232210|   20|Donna Yerby_Latia...|\n",
      "| 29|  Male|     Elenore Choy|    DB|3652057|   20|Jc Andrepont_Gonz...|\n",
      "| 28|  Male|      Abram Nagao| Cloud|2652463|   21|Eda Neathery_Anni...|\n",
      "| 28|  Male|   Bonita Higuera| Cloud|7671835|   21|Taryn Brownlee_Se...|\n",
      "| 28|Female|  Sebrina Maresca|    PF|5742239|   21|Bonita Higuera_Se...|\n",
      "| 28|  Male|    Kizzy Brenner| Cloud|4622328|   21|Leontine Phillips...|\n",
      "| 28|  Male|      Billi Clore|    DB|9151306|   21|Latia Vanhoose_Er...|\n",
      "| 29|  Male|  Sebrina Maresca| Cloud|5042394|   21|Donna Yerby_Miche...|\n",
      "| 29|Female|  Gonzalo Ferebee|   OOP|2262603|   21|Bonita Higuera_Ch...|\n",
      "| 29|  Male|   Tamera Blakley|   OOP|7341268|   21|Anna Santos_Naoma...|\n",
      "| 29|Female|   Alberta Freund|   OOP|4501424|   21|Toshiko Hillyard_...|\n",
      "| 29|Female|   Nicole Harwood|    PF|8121198|   21|Bonita Higuera_Pr...|\n",
      "| 28|Female|     Cheri Kenney| Cloud|2281771|   22|Tamera Blakley_Ab...|\n",
      "+---+------+-----------------+------+-------+-----+--------------------+\n",
      "only showing top 20 rows\n",
      "\n"
     ]
    }
   ],
   "source": [
    "df.orderBy(\"marks\",\"age\").show()"
   ]
  },
  {
   "cell_type": "markdown",
   "id": "bc6ef82c",
   "metadata": {},
   "source": [
    "Sort by asc/desc"
   ]
  },
  {
   "cell_type": "code",
   "execution_count": 43,
   "id": "85cc36c1",
   "metadata": {},
   "outputs": [
    {
     "name": "stdout",
     "output_type": "stream",
     "text": [
      "+---+------+-----------------+------+-------+-----+--------------------+\n",
      "|age|gender|             name|course|   roll|marks|               email|\n",
      "+---+------+-----------------+------+-------+-----+--------------------+\n",
      "| 29|Female|Michelle Ruggiero|    DB|9232210|   20|Donna Yerby_Latia...|\n",
      "| 29|  Male|     Elenore Choy|    DB|3652057|   20|Jc Andrepont_Gonz...|\n",
      "| 29|  Male|   Jalisa Swenson|   OOP|4751515|   20|Annika Hoffman_Hu...|\n",
      "| 29|Female|  Gonzalo Ferebee|   DSA|5631172|   20|Jeannetta Golden_...|\n",
      "| 29|Female|   Tamera Blakley|   DSA|3911247|   20|Donna Yerby_Bonit...|\n",
      "| 29|  Male|Michelle Ruggiero|    PF|6001585|   20|Paris Hutton_Marg...|\n",
      "| 28|Female|   Maybell Duguay| Cloud| 261439|   20|Nicole Harwood_Ju...|\n",
      "| 28|  Male|  Marylee Capasso|   DSA|2081560|   20|Sheryll Towler_Do...|\n",
      "| 28|Female|     Jc Andrepont|    PF| 972733|   20|Eda Neathery_Eda ...|\n",
      "| 29|  Male|  Sebrina Maresca| Cloud|5042394|   21|Donna Yerby_Miche...|\n",
      "| 29|Female|   Nicole Harwood|    PF|8121198|   21|Bonita Higuera_Pr...|\n",
      "| 29|  Male|   Tamera Blakley|   OOP|7341268|   21|Anna Santos_Naoma...|\n",
      "| 29|Female|   Alberta Freund|   OOP|4501424|   21|Toshiko Hillyard_...|\n",
      "| 29|Female|  Gonzalo Ferebee|   OOP|2262603|   21|Bonita Higuera_Ch...|\n",
      "| 28|  Male|    Kizzy Brenner| Cloud|4622328|   21|Leontine Phillips...|\n",
      "| 28|  Male|   Bonita Higuera| Cloud|7671835|   21|Taryn Brownlee_Se...|\n",
      "| 28|  Male|      Abram Nagao| Cloud|2652463|   21|Eda Neathery_Anni...|\n",
      "| 28|Female|  Sebrina Maresca|    PF|5742239|   21|Bonita Higuera_Se...|\n",
      "| 28|  Male|      Billi Clore|    DB|9151306|   21|Latia Vanhoose_Er...|\n",
      "| 29|Female|   Maybell Duguay|   MVC|1102536|   22|Somer Stoecker_Ma...|\n",
      "+---+------+-----------------+------+-------+-----+--------------------+\n",
      "only showing top 20 rows\n",
      "\n"
     ]
    }
   ],
   "source": [
    "df.orderBy(df.marks.asc(),df.age.desc()).show()"
   ]
  },
  {
   "cell_type": "markdown",
   "id": "6fb27211",
   "metadata": {},
   "source": [
    "Group By"
   ]
  },
  {
   "cell_type": "code",
   "execution_count": 44,
   "id": "d11d7eda",
   "metadata": {},
   "outputs": [
    {
     "name": "stdout",
     "output_type": "stream",
     "text": [
      "+------+----------+\n",
      "|gender|sum(marks)|\n",
      "+------+----------+\n",
      "|Female|     29636|\n",
      "|  Male|     30461|\n",
      "+------+----------+\n",
      "\n"
     ]
    }
   ],
   "source": [
    "df.groupBy(\"gender\").sum(\"marks\").show()"
   ]
  },
  {
   "cell_type": "code",
   "execution_count": 45,
   "id": "f5a7637a",
   "metadata": {},
   "outputs": [
    {
     "name": "stdout",
     "output_type": "stream",
     "text": [
      "+------+-----+\n",
      "|gender|count|\n",
      "+------+-----+\n",
      "|Female|  501|\n",
      "|  Male|  499|\n",
      "+------+-----+\n",
      "\n"
     ]
    }
   ],
   "source": [
    "df.groupBy(\"gender\").count().show()"
   ]
  },
  {
   "cell_type": "code",
   "execution_count": 46,
   "id": "217856de",
   "metadata": {},
   "outputs": [
    {
     "name": "stdout",
     "output_type": "stream",
     "text": [
      "+------+-----+\n",
      "|course|count|\n",
      "+------+-----+\n",
      "|    PF|  166|\n",
      "|    DB|  157|\n",
      "|   MVC|  157|\n",
      "|   DSA|  176|\n",
      "| Cloud|  192|\n",
      "|   OOP|  152|\n",
      "+------+-----+\n",
      "\n"
     ]
    }
   ],
   "source": [
    "df.groupBy(\"course\").count().show()"
   ]
  },
  {
   "cell_type": "code",
   "execution_count": 47,
   "id": "3fdd220a",
   "metadata": {},
   "outputs": [
    {
     "name": "stdout",
     "output_type": "stream",
     "text": [
      "+------+----------+\n",
      "|gender|max(marks)|\n",
      "+------+----------+\n",
      "|Female|        99|\n",
      "|  Male|        99|\n",
      "+------+----------+\n",
      "\n",
      "+------+----------+\n",
      "|gender|min(marks)|\n",
      "+------+----------+\n",
      "|Female|        20|\n",
      "|  Male|        20|\n",
      "+------+----------+\n",
      "\n"
     ]
    }
   ],
   "source": [
    "df.groupBy(\"gender\").max(\"marks\").show()\n",
    "df.groupBy(\"gender\").min(\"marks\").show()"
   ]
  },
  {
   "cell_type": "code",
   "execution_count": 48,
   "id": "04359e42",
   "metadata": {},
   "outputs": [
    {
     "name": "stdout",
     "output_type": "stream",
     "text": [
      "+------+------------------+\n",
      "|course|        avg(marks)|\n",
      "+------+------------------+\n",
      "|    PF| 59.83734939759036|\n",
      "|    DB|59.044585987261144|\n",
      "|   MVC| 61.05095541401274|\n",
      "|   DSA| 62.21590909090909|\n",
      "| Cloud|59.598958333333336|\n",
      "|   OOP|  58.6578947368421|\n",
      "+------+------------------+\n",
      "\n"
     ]
    }
   ],
   "source": [
    "df.groupBy(\"course\").avg(\"marks\").show()"
   ]
  },
  {
   "cell_type": "code",
   "execution_count": 49,
   "id": "68f667a2",
   "metadata": {},
   "outputs": [
    {
     "name": "stdout",
     "output_type": "stream",
     "text": [
      "+------+------------------+\n",
      "|gender|        avg(marks)|\n",
      "+------+------------------+\n",
      "|Female|59.153692614770456|\n",
      "|  Male| 61.04408817635271|\n",
      "+------+------------------+\n",
      "\n"
     ]
    }
   ],
   "source": [
    "df.groupBy(\"gender\").avg(\"marks\").show()"
   ]
  },
  {
   "cell_type": "code",
   "execution_count": 50,
   "id": "3479e5f4",
   "metadata": {},
   "outputs": [
    {
     "name": "stdout",
     "output_type": "stream",
     "text": [
      "+------+------+------------------+\n",
      "|gender|course|        avg(marks)|\n",
      "+------+------+------------------+\n",
      "|Female| Cloud| 59.58490566037736|\n",
      "|Female|   OOP| 57.09756097560975|\n",
      "|  Male|    PF| 61.44329896907217|\n",
      "|  Male|    DB| 61.86585365853659|\n",
      "|  Male| Cloud|59.616279069767444|\n",
      "|  Male|   OOP| 60.48571428571429|\n",
      "|Female|   DSA| 62.48979591836735|\n",
      "|Female|    DB|             55.96|\n",
      "|  Male|   DSA| 61.87179487179487|\n",
      "|  Male|   MVC| 60.94186046511628|\n",
      "|Female|   MVC|61.183098591549296|\n",
      "|Female|    PF| 57.57971014492754|\n",
      "+------+------+------------------+\n",
      "\n"
     ]
    }
   ],
   "source": [
    "df.groupBy(\"gender\",\"course\").mean(\"marks\").show()"
   ]
  },
  {
   "cell_type": "code",
   "execution_count": 51,
   "id": "bb087563",
   "metadata": {},
   "outputs": [
    {
     "name": "stdout",
     "output_type": "stream",
     "text": [
      "+------+------+--------+----------+----------+------------------+------------------+\n",
      "|course|gender|count(1)|min(marks)|max(marks)|        avg(marks)|        avg(marks)|\n",
      "+------+------+--------+----------+----------+------------------+------------------+\n",
      "|   OOP|  Male|      70|        20|        99| 60.48571428571429| 60.48571428571429|\n",
      "|    DB|  Male|      82|        20|        98| 61.86585365853659| 61.86585365853659|\n",
      "| Cloud|Female|     106|        20|        99| 59.58490566037736| 59.58490566037736|\n",
      "|   MVC|  Male|      86|        22|        99| 60.94186046511628| 60.94186046511628|\n",
      "|   DSA|Female|      98|        20|        99| 62.48979591836735| 62.48979591836735|\n",
      "|    PF|  Male|      97|        20|        99| 61.44329896907217| 61.44329896907217|\n",
      "|   MVC|Female|      71|        22|        99|61.183098591549296|61.183098591549296|\n",
      "| Cloud|  Male|      86|        21|        97|59.616279069767444|59.616279069767444|\n",
      "|    PF|Female|      69|        20|        99| 57.57971014492754| 57.57971014492754|\n",
      "|   DSA|  Male|      78|        20|        99| 61.87179487179487| 61.87179487179487|\n",
      "|    DB|Female|      75|        20|        96|             55.96|             55.96|\n",
      "|   OOP|Female|      82|        21|        99| 57.09756097560975| 57.09756097560975|\n",
      "+------+------+--------+----------+----------+------------------+------------------+\n",
      "\n"
     ]
    }
   ],
   "source": [
    "from pyspark.sql.functions import count,avg,min,mean,max\n",
    "df.groupBy(\"course\",df.gender).agg(count(\"*\"),min(df.marks),max(\"marks\"),mean(\"marks\"),avg(\"marks\")).show()"
   ]
  },
  {
   "cell_type": "code",
   "execution_count": 52,
   "id": "26c55387",
   "metadata": {},
   "outputs": [
    {
     "name": "stdout",
     "output_type": "stream",
     "text": [
      "+------+------+--------+----------+----------+------------------+------------------+\n",
      "|course|gender|count(1)|min(marks)|max(marks)|        avg(marks)|        avg(marks)|\n",
      "+------+------+--------+----------+----------+------------------+------------------+\n",
      "|   OOP|  Male|      70|        20|        99| 60.48571428571429| 60.48571428571429|\n",
      "|    DB|  Male|      82|        20|        98| 61.86585365853659| 61.86585365853659|\n",
      "|   MVC|  Male|      86|        22|        99| 60.94186046511628| 60.94186046511628|\n",
      "|    PF|  Male|      97|        20|        99| 61.44329896907217| 61.44329896907217|\n",
      "| Cloud|  Male|      86|        21|        97|59.616279069767444|59.616279069767444|\n",
      "|   DSA|  Male|      78|        20|        99| 61.87179487179487| 61.87179487179487|\n",
      "+------+------+--------+----------+----------+------------------+------------------+\n",
      "\n"
     ]
    }
   ],
   "source": [
    "df.filter(df.gender == \"Male\").groupBy(\"course\",df.gender).agg(count(\"*\"),min(df.marks),max(\"marks\"),mean(\"marks\"),avg(\"marks\")).show()"
   ]
  },
  {
   "cell_type": "code",
   "execution_count": null,
   "id": "6d5e5754",
   "metadata": {},
   "outputs": [],
   "source": []
  }
 ],
 "metadata": {
  "kernelspec": {
   "display_name": "Python 3 (ipykernel)",
   "language": "python",
   "name": "python3"
  },
  "language_info": {
   "codemirror_mode": {
    "name": "ipython",
    "version": 3
   },
   "file_extension": ".py",
   "mimetype": "text/x-python",
   "name": "python",
   "nbconvert_exporter": "python",
   "pygments_lexer": "ipython3",
   "version": "3.9.7"
  }
 },
 "nbformat": 4,
 "nbformat_minor": 5
}
