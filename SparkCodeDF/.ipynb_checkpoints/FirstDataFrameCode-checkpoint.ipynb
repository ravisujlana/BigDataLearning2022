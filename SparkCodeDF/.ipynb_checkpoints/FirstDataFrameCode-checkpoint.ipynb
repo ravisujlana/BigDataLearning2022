{
 "cells": [
  {
   "cell_type": "code",
   "execution_count": 115,
   "id": "6baf4792",
   "metadata": {},
   "outputs": [],
   "source": [
    "from pyspark.sql import SparkSession\n",
    "from pyspark.sql.types import StructType, StructField, StringType, IntegerType\n",
    "from pyspark.sql.functions import col, lit,round\n",
    "ss = SparkSession.builder.appName(\"Spark Data Frame Example\").getOrCreate()"
   ]
  },
  {
   "cell_type": "code",
   "execution_count": 116,
   "id": "da4eb730",
   "metadata": {},
   "outputs": [
    {
     "name": "stdout",
     "output_type": "stream",
     "text": [
      "root\n",
      " |-- age: integer (nullable = true)\n",
      " |-- gender: string (nullable = true)\n",
      " |-- name: string (nullable = true)\n",
      " |-- course: string (nullable = true)\n",
      " |-- roll: integer (nullable = true)\n",
      " |-- marks: integer (nullable = true)\n",
      " |-- email: string (nullable = true)\n",
      "\n"
     ]
    }
   ],
   "source": [
    "df = ss.read.options(inferSchema='True', header='True').csv('StudentData.csv')\n",
    "df.printSchema()\n"
   ]
  },
  {
   "cell_type": "code",
   "execution_count": 117,
   "id": "11bcf7a3",
   "metadata": {},
   "outputs": [],
   "source": [
    "\n",
    "schema = StructType([\n",
    "                StructField(\"age\",IntegerType(),True),\n",
    "                StructField(\"gender\",StringType(),True),\n",
    "                StructField(\"name\",StringType(),True),\n",
    "                StructField(\"course\",StringType(),True),\n",
    "                StructField(\"roll\",StringType(),True),\n",
    "                StructField(\"marks\",IntegerType(),True),\n",
    "                StructField(\"email\",StringType(),True)    \n",
    "]\n",
    ")"
   ]
  },
  {
   "cell_type": "code",
   "execution_count": 118,
   "id": "894fc7d9",
   "metadata": {},
   "outputs": [
    {
     "name": "stdout",
     "output_type": "stream",
     "text": [
      "root\n",
      " |-- age: integer (nullable = true)\n",
      " |-- gender: string (nullable = true)\n",
      " |-- name: string (nullable = true)\n",
      " |-- course: string (nullable = true)\n",
      " |-- roll: string (nullable = true)\n",
      " |-- marks: integer (nullable = true)\n",
      " |-- email: string (nullable = true)\n",
      "\n"
     ]
    }
   ],
   "source": [
    "df = ss.read.options(header='True').schema(schema).csv('StudentData.csv')\n",
    "df.printSchema()"
   ]
  },
  {
   "cell_type": "code",
   "execution_count": 143,
   "id": "9da1a4d6",
   "metadata": {},
   "outputs": [
    {
     "name": "stdout",
     "output_type": "stream",
     "text": [
      "root\n",
      " |-- age: long (nullable = true)\n",
      " |-- gender: string (nullable = true)\n",
      " |-- name: string (nullable = true)\n",
      " |-- course: string (nullable = true)\n",
      " |-- roll: string (nullable = true)\n",
      " |-- marks: long (nullable = true)\n",
      " |-- email: string (nullable = true)\n",
      "\n",
      "+---+------+----------------+------+------+-----+--------------------+\n",
      "|age|gender|            name|course|  roll|marks|               email|\n",
      "+---+------+----------------+------+------+-----+--------------------+\n",
      "| 28|Female| Hubert Oliveras|    DB|  2984|   59|Annika Hoffman_Na...|\n",
      "| 29|Female|Toshiko Hillyard| Cloud| 12899|   62|Margene Moores_Ma...|\n",
      "| 28|  Male|  Celeste Lollis|    PF| 21267|   45|Jeannetta Golden_...|\n",
      "| 29|Female|    Elenore Choy|    DB| 32877|   29|Billi Clore_Mitzi...|\n",
      "| 28|  Male|  Sheryll Towler|   DSA| 41487|   41|Claude Panos_Judi...|\n",
      "| 28|  Male|  Margene Moores|   MVC| 52771|   32|Toshiko Hillyard_...|\n",
      "| 28|  Male|     Neda Briski|   OOP| 61973|   69|Alberta Freund_El...|\n",
      "| 28|Female|    Claude Panos| Cloud| 72409|   85|Sheryll Towler_Al...|\n",
      "| 28|  Male|  Celeste Lollis|   MVC| 81492|   64|Nicole Harwood_Cl...|\n",
      "| 29|  Male|  Cordie Harnois|   OOP| 92882|   51|Judie Chipps_Clem...|\n",
      "| 29|Female|       Kena Wild|   DSA|102285|   35|Dustin Feagins_Ma...|\n",
      "| 29|  Male| Ernest Rossbach|    DB|111449|   53|Maybell Duguay_Ab...|\n",
      "| 28|Female|  Latia Vanhoose|    DB|122502|   27|Latia Vanhoose_Mi...|\n",
      "| 29|Female|  Latia Vanhoose|   MVC|132110|   55|Eda Neathery_Nico...|\n",
      "| 29|  Male|     Neda Briski|    PF|141770|   42|Margene Moores_Mi...|\n",
      "| 29|Female|  Latia Vanhoose|    DB|152159|   27|Claude Panos_Sant...|\n",
      "| 29|  Male|  Loris Crossett|   MVC|161771|   36|Mitzi Seldon_Jenn...|\n",
      "| 29|  Male|  Annika Hoffman|   OOP|171660|   22|Taryn Brownlee_Mi...|\n",
      "| 29|  Male|   Santa Kerfien|    PF|182129|   56|Judie Chipps_Tary...|\n",
      "| 28|Female|Mickey Cortright|    DB|192537|   62|Ernest Rossbach_M...|\n",
      "+---+------+----------------+------+------+-----+--------------------+\n",
      "only showing top 20 rows\n",
      "\n"
     ]
    }
   ],
   "source": [
    "from pyspark import SparkContext, SparkConf\n",
    "\n",
    "conf = SparkConf().setAppName(\"Read File\")\n",
    "\n",
    "sc = SparkContext.getOrCreate(conf=conf)\n",
    "\n",
    "rdd = sc.textFile('StudentData.csv')\n",
    "header = rdd.first()\n",
    "rdd = rdd.filter(lambda x: x!=header).map(lambda x:x.split(','))\n",
    "rdd = rdd.map(lambda x:[int(x[0]),x[1],x[2],x[3],x[4],int(x[5]),x[6] ])\n",
    "columns = header.split(',')\n",
    "df2 = rdd.toDF(columns)\n",
    "df2.printSchema()\n",
    "df2.show()\n"
   ]
  },
  {
   "cell_type": "code",
   "execution_count": 144,
   "id": "ca046c02",
   "metadata": {},
   "outputs": [
    {
     "name": "stdout",
     "output_type": "stream",
     "text": [
      "root\n",
      " |-- age: integer (nullable = true)\n",
      " |-- gender: string (nullable = true)\n",
      " |-- name: string (nullable = true)\n",
      " |-- course: string (nullable = true)\n",
      " |-- roll: string (nullable = true)\n",
      " |-- marks: integer (nullable = true)\n",
      " |-- email: string (nullable = true)\n",
      "\n",
      "+---+------+----------------+------+------+-----+--------------------+\n",
      "|age|gender|            name|course|  roll|marks|               email|\n",
      "+---+------+----------------+------+------+-----+--------------------+\n",
      "| 28|Female| Hubert Oliveras|    DB|  2984|   59|Annika Hoffman_Na...|\n",
      "| 29|Female|Toshiko Hillyard| Cloud| 12899|   62|Margene Moores_Ma...|\n",
      "| 28|  Male|  Celeste Lollis|    PF| 21267|   45|Jeannetta Golden_...|\n",
      "| 29|Female|    Elenore Choy|    DB| 32877|   29|Billi Clore_Mitzi...|\n",
      "| 28|  Male|  Sheryll Towler|   DSA| 41487|   41|Claude Panos_Judi...|\n",
      "| 28|  Male|  Margene Moores|   MVC| 52771|   32|Toshiko Hillyard_...|\n",
      "| 28|  Male|     Neda Briski|   OOP| 61973|   69|Alberta Freund_El...|\n",
      "| 28|Female|    Claude Panos| Cloud| 72409|   85|Sheryll Towler_Al...|\n",
      "| 28|  Male|  Celeste Lollis|   MVC| 81492|   64|Nicole Harwood_Cl...|\n",
      "| 29|  Male|  Cordie Harnois|   OOP| 92882|   51|Judie Chipps_Clem...|\n",
      "| 29|Female|       Kena Wild|   DSA|102285|   35|Dustin Feagins_Ma...|\n",
      "| 29|  Male| Ernest Rossbach|    DB|111449|   53|Maybell Duguay_Ab...|\n",
      "| 28|Female|  Latia Vanhoose|    DB|122502|   27|Latia Vanhoose_Mi...|\n",
      "| 29|Female|  Latia Vanhoose|   MVC|132110|   55|Eda Neathery_Nico...|\n",
      "| 29|  Male|     Neda Briski|    PF|141770|   42|Margene Moores_Mi...|\n",
      "| 29|Female|  Latia Vanhoose|    DB|152159|   27|Claude Panos_Sant...|\n",
      "| 29|  Male|  Loris Crossett|   MVC|161771|   36|Mitzi Seldon_Jenn...|\n",
      "| 29|  Male|  Annika Hoffman|   OOP|171660|   22|Taryn Brownlee_Mi...|\n",
      "| 29|  Male|   Santa Kerfien|    PF|182129|   56|Judie Chipps_Tary...|\n",
      "| 28|Female|Mickey Cortright|    DB|192537|   62|Ernest Rossbach_M...|\n",
      "+---+------+----------------+------+------+-----+--------------------+\n",
      "only showing top 20 rows\n",
      "\n"
     ]
    }
   ],
   "source": [
    "df3 = spark.createDataFrame(rdd,schema = schema)\n",
    "df3.printSchema()\n",
    "df3.show()"
   ]
  },
  {
   "cell_type": "code",
   "execution_count": 145,
   "id": "94ba4d47",
   "metadata": {},
   "outputs": [
    {
     "name": "stdout",
     "output_type": "stream",
     "text": [
      "+------+-----+\n",
      "|gender|marks|\n",
      "+------+-----+\n",
      "|Female|   59|\n",
      "|Female|   62|\n",
      "|  Male|   45|\n",
      "|Female|   29|\n",
      "|  Male|   41|\n",
      "|  Male|   32|\n",
      "|  Male|   69|\n",
      "|Female|   85|\n",
      "|  Male|   64|\n",
      "|  Male|   51|\n",
      "|Female|   35|\n",
      "|  Male|   53|\n",
      "|Female|   27|\n",
      "|Female|   55|\n",
      "|  Male|   42|\n",
      "|Female|   27|\n",
      "|  Male|   36|\n",
      "|  Male|   22|\n",
      "|  Male|   56|\n",
      "|Female|   62|\n",
      "+------+-----+\n",
      "only showing top 20 rows\n",
      "\n"
     ]
    }
   ],
   "source": [
    "df3.select(\"gender\",\"marks\").show()\n"
   ]
  },
  {
   "cell_type": "code",
   "execution_count": 123,
   "id": "de7f4c7c",
   "metadata": {},
   "outputs": [
    {
     "name": "stdout",
     "output_type": "stream",
     "text": [
      "+----------------+--------------------+\n",
      "|            name|               email|\n",
      "+----------------+--------------------+\n",
      "| Hubert Oliveras|Annika Hoffman_Na...|\n",
      "|Toshiko Hillyard|Margene Moores_Ma...|\n",
      "|  Celeste Lollis|Jeannetta Golden_...|\n",
      "|    Elenore Choy|Billi Clore_Mitzi...|\n",
      "|  Sheryll Towler|Claude Panos_Judi...|\n",
      "|  Margene Moores|Toshiko Hillyard_...|\n",
      "|     Neda Briski|Alberta Freund_El...|\n",
      "|    Claude Panos|Sheryll Towler_Al...|\n",
      "|  Celeste Lollis|Nicole Harwood_Cl...|\n",
      "|  Cordie Harnois|Judie Chipps_Clem...|\n",
      "|       Kena Wild|Dustin Feagins_Ma...|\n",
      "| Ernest Rossbach|Maybell Duguay_Ab...|\n",
      "|  Latia Vanhoose|Latia Vanhoose_Mi...|\n",
      "|  Latia Vanhoose|Eda Neathery_Nico...|\n",
      "|     Neda Briski|Margene Moores_Mi...|\n",
      "|  Latia Vanhoose|Claude Panos_Sant...|\n",
      "|  Loris Crossett|Mitzi Seldon_Jenn...|\n",
      "|  Annika Hoffman|Taryn Brownlee_Mi...|\n",
      "|   Santa Kerfien|Judie Chipps_Tary...|\n",
      "|Mickey Cortright|Ernest Rossbach_M...|\n",
      "+----------------+--------------------+\n",
      "only showing top 20 rows\n",
      "\n"
     ]
    }
   ],
   "source": [
    "df.select(df.name,df.email).show()\n"
   ]
  },
  {
   "cell_type": "code",
   "execution_count": 124,
   "id": "942a46d1",
   "metadata": {},
   "outputs": [
    {
     "name": "stdout",
     "output_type": "stream",
     "text": [
      "+------+----------------+\n",
      "|  roll|            name|\n",
      "+------+----------------+\n",
      "|  2984| Hubert Oliveras|\n",
      "| 12899|Toshiko Hillyard|\n",
      "| 21267|  Celeste Lollis|\n",
      "| 32877|    Elenore Choy|\n",
      "| 41487|  Sheryll Towler|\n",
      "| 52771|  Margene Moores|\n",
      "| 61973|     Neda Briski|\n",
      "| 72409|    Claude Panos|\n",
      "| 81492|  Celeste Lollis|\n",
      "| 92882|  Cordie Harnois|\n",
      "|102285|       Kena Wild|\n",
      "|111449| Ernest Rossbach|\n",
      "|122502|  Latia Vanhoose|\n",
      "|132110|  Latia Vanhoose|\n",
      "|141770|     Neda Briski|\n",
      "|152159|  Latia Vanhoose|\n",
      "|161771|  Loris Crossett|\n",
      "|171660|  Annika Hoffman|\n",
      "|182129|   Santa Kerfien|\n",
      "|192537|Mickey Cortright|\n",
      "+------+----------------+\n",
      "only showing top 20 rows\n",
      "\n"
     ]
    }
   ],
   "source": [
    "df.select(col(\"roll\"),col(\"name\")).show()"
   ]
  },
  {
   "cell_type": "code",
   "execution_count": 125,
   "id": "55d00152",
   "metadata": {},
   "outputs": [
    {
     "name": "stdout",
     "output_type": "stream",
     "text": [
      "+---+------+----------------+------+\n",
      "|age|gender|            name|course|\n",
      "+---+------+----------------+------+\n",
      "| 28|Female| Hubert Oliveras|    DB|\n",
      "| 29|Female|Toshiko Hillyard| Cloud|\n",
      "| 28|  Male|  Celeste Lollis|    PF|\n",
      "| 29|Female|    Elenore Choy|    DB|\n",
      "| 28|  Male|  Sheryll Towler|   DSA|\n",
      "| 28|  Male|  Margene Moores|   MVC|\n",
      "| 28|  Male|     Neda Briski|   OOP|\n",
      "| 28|Female|    Claude Panos| Cloud|\n",
      "| 28|  Male|  Celeste Lollis|   MVC|\n",
      "| 29|  Male|  Cordie Harnois|   OOP|\n",
      "| 29|Female|       Kena Wild|   DSA|\n",
      "| 29|  Male| Ernest Rossbach|    DB|\n",
      "| 28|Female|  Latia Vanhoose|    DB|\n",
      "| 29|Female|  Latia Vanhoose|   MVC|\n",
      "| 29|  Male|     Neda Briski|    PF|\n",
      "| 29|Female|  Latia Vanhoose|    DB|\n",
      "| 29|  Male|  Loris Crossett|   MVC|\n",
      "| 29|  Male|  Annika Hoffman|   OOP|\n",
      "| 29|  Male|   Santa Kerfien|    PF|\n",
      "| 28|Female|Mickey Cortright|    DB|\n",
      "+---+------+----------------+------+\n",
      "only showing top 20 rows\n",
      "\n"
     ]
    }
   ],
   "source": [
    "df.select(df.columns[:4]).show()"
   ]
  },
  {
   "cell_type": "code",
   "execution_count": 126,
   "id": "8ecc46ef",
   "metadata": {},
   "outputs": [
    {
     "name": "stdout",
     "output_type": "stream",
     "text": [
      "+------+------+-----+--------------------+\n",
      "|course|  roll|marks|               email|\n",
      "+------+------+-----+--------------------+\n",
      "|    DB|  2984|   59|Annika Hoffman_Na...|\n",
      "| Cloud| 12899|   62|Margene Moores_Ma...|\n",
      "|    PF| 21267|   45|Jeannetta Golden_...|\n",
      "|    DB| 32877|   29|Billi Clore_Mitzi...|\n",
      "|   DSA| 41487|   41|Claude Panos_Judi...|\n",
      "|   MVC| 52771|   32|Toshiko Hillyard_...|\n",
      "|   OOP| 61973|   69|Alberta Freund_El...|\n",
      "| Cloud| 72409|   85|Sheryll Towler_Al...|\n",
      "|   MVC| 81492|   64|Nicole Harwood_Cl...|\n",
      "|   OOP| 92882|   51|Judie Chipps_Clem...|\n",
      "|   DSA|102285|   35|Dustin Feagins_Ma...|\n",
      "|    DB|111449|   53|Maybell Duguay_Ab...|\n",
      "|    DB|122502|   27|Latia Vanhoose_Mi...|\n",
      "|   MVC|132110|   55|Eda Neathery_Nico...|\n",
      "|    PF|141770|   42|Margene Moores_Mi...|\n",
      "|    DB|152159|   27|Claude Panos_Sant...|\n",
      "|   MVC|161771|   36|Mitzi Seldon_Jenn...|\n",
      "|   OOP|171660|   22|Taryn Brownlee_Mi...|\n",
      "|    PF|182129|   56|Judie Chipps_Tary...|\n",
      "|    DB|192537|   62|Ernest Rossbach_M...|\n",
      "+------+------+-----+--------------------+\n",
      "only showing top 20 rows\n",
      "\n"
     ]
    }
   ],
   "source": [
    "df.select(df.columns[3:]).show()"
   ]
  },
  {
   "cell_type": "code",
   "execution_count": 127,
   "id": "e5d085fc",
   "metadata": {},
   "outputs": [
    {
     "name": "stdout",
     "output_type": "stream",
     "text": [
      "+------+-----+\n",
      "|course|marks|\n",
      "+------+-----+\n",
      "|    DB|   59|\n",
      "| Cloud|   62|\n",
      "|    PF|   45|\n",
      "|    DB|   29|\n",
      "|   DSA|   41|\n",
      "|   MVC|   32|\n",
      "|   OOP|   69|\n",
      "| Cloud|   85|\n",
      "|   MVC|   64|\n",
      "|   OOP|   51|\n",
      "|   DSA|   35|\n",
      "|    DB|   53|\n",
      "|    DB|   27|\n",
      "|   MVC|   55|\n",
      "|    PF|   42|\n",
      "|    DB|   27|\n",
      "|   MVC|   36|\n",
      "|   OOP|   22|\n",
      "|    PF|   56|\n",
      "|    DB|   62|\n",
      "+------+-----+\n",
      "only showing top 20 rows\n",
      "\n"
     ]
    }
   ],
   "source": [
    "df.select(df.columns[3],df.columns[5]).show()"
   ]
  },
  {
   "cell_type": "code",
   "execution_count": 128,
   "id": "4b28a6e9",
   "metadata": {},
   "outputs": [
    {
     "name": "stdout",
     "output_type": "stream",
     "text": [
      "+------+------+-----+---+\n",
      "|  roll|course|marks|age|\n",
      "+------+------+-----+---+\n",
      "|  2984|    DB|   59| 28|\n",
      "| 12899| Cloud|   62| 29|\n",
      "| 21267|    PF|   45| 28|\n",
      "| 32877|    DB|   29| 29|\n",
      "| 41487|   DSA|   41| 28|\n",
      "| 52771|   MVC|   32| 28|\n",
      "| 61973|   OOP|   69| 28|\n",
      "| 72409| Cloud|   85| 28|\n",
      "| 81492|   MVC|   64| 28|\n",
      "| 92882|   OOP|   51| 29|\n",
      "|102285|   DSA|   35| 29|\n",
      "|111449|    DB|   53| 29|\n",
      "|122502|    DB|   27| 28|\n",
      "|132110|   MVC|   55| 29|\n",
      "|141770|    PF|   42| 29|\n",
      "|152159|    DB|   27| 29|\n",
      "|161771|   MVC|   36| 29|\n",
      "|171660|   OOP|   22| 29|\n",
      "|182129|    PF|   56| 29|\n",
      "|192537|    DB|   62| 28|\n",
      "+------+------+-----+---+\n",
      "only showing top 20 rows\n",
      "\n"
     ]
    }
   ],
   "source": [
    "df.select(df.roll,\"course\",df.columns[5],'age').show()"
   ]
  },
  {
   "cell_type": "code",
   "execution_count": 129,
   "id": "37cb7fea",
   "metadata": {},
   "outputs": [
    {
     "name": "stdout",
     "output_type": "stream",
     "text": [
      "+---+------+----------------+------+------+-----+--------------------+-------+\n",
      "|age|gender|            name|course|  roll|marks|               email|Country|\n",
      "+---+------+----------------+------+------+-----+--------------------+-------+\n",
      "| 28|Female| Hubert Oliveras|    DB|  2984|   59|Annika Hoffman_Na...|    USA|\n",
      "| 29|Female|Toshiko Hillyard| Cloud| 12899|   62|Margene Moores_Ma...|    USA|\n",
      "| 28|  Male|  Celeste Lollis|    PF| 21267|   45|Jeannetta Golden_...|    USA|\n",
      "| 29|Female|    Elenore Choy|    DB| 32877|   29|Billi Clore_Mitzi...|    USA|\n",
      "| 28|  Male|  Sheryll Towler|   DSA| 41487|   41|Claude Panos_Judi...|    USA|\n",
      "| 28|  Male|  Margene Moores|   MVC| 52771|   32|Toshiko Hillyard_...|    USA|\n",
      "| 28|  Male|     Neda Briski|   OOP| 61973|   69|Alberta Freund_El...|    USA|\n",
      "| 28|Female|    Claude Panos| Cloud| 72409|   85|Sheryll Towler_Al...|    USA|\n",
      "| 28|  Male|  Celeste Lollis|   MVC| 81492|   64|Nicole Harwood_Cl...|    USA|\n",
      "| 29|  Male|  Cordie Harnois|   OOP| 92882|   51|Judie Chipps_Clem...|    USA|\n",
      "| 29|Female|       Kena Wild|   DSA|102285|   35|Dustin Feagins_Ma...|    USA|\n",
      "| 29|  Male| Ernest Rossbach|    DB|111449|   53|Maybell Duguay_Ab...|    USA|\n",
      "| 28|Female|  Latia Vanhoose|    DB|122502|   27|Latia Vanhoose_Mi...|    USA|\n",
      "| 29|Female|  Latia Vanhoose|   MVC|132110|   55|Eda Neathery_Nico...|    USA|\n",
      "| 29|  Male|     Neda Briski|    PF|141770|   42|Margene Moores_Mi...|    USA|\n",
      "| 29|Female|  Latia Vanhoose|    DB|152159|   27|Claude Panos_Sant...|    USA|\n",
      "| 29|  Male|  Loris Crossett|   MVC|161771|   36|Mitzi Seldon_Jenn...|    USA|\n",
      "| 29|  Male|  Annika Hoffman|   OOP|171660|   22|Taryn Brownlee_Mi...|    USA|\n",
      "| 29|  Male|   Santa Kerfien|    PF|182129|   56|Judie Chipps_Tary...|    USA|\n",
      "| 28|Female|Mickey Cortright|    DB|192537|   62|Ernest Rossbach_M...|    USA|\n",
      "+---+------+----------------+------+------+-----+--------------------+-------+\n",
      "only showing top 20 rows\n",
      "\n"
     ]
    }
   ],
   "source": [
    "dfNewCol = df.withColumn(\"Country\",lit(\"USA\"))\n",
    "dfNewCol.show()"
   ]
  },
  {
   "cell_type": "code",
   "execution_count": 130,
   "id": "f085d3bb",
   "metadata": {},
   "outputs": [
    {
     "name": "stdout",
     "output_type": "stream",
     "text": [
      "+---+------+----------------+------+----------+-----+--------------------+\n",
      "|age|gender|            name|course|rollnumber|marks|             emailid|\n",
      "+---+------+----------------+------+----------+-----+--------------------+\n",
      "| 28|Female| Hubert Oliveras|    DB|      2984|   59|Annika Hoffman_Na...|\n",
      "| 29|Female|Toshiko Hillyard| Cloud|     12899|   62|Margene Moores_Ma...|\n",
      "| 28|  Male|  Celeste Lollis|    PF|     21267|   45|Jeannetta Golden_...|\n",
      "| 29|Female|    Elenore Choy|    DB|     32877|   29|Billi Clore_Mitzi...|\n",
      "| 28|  Male|  Sheryll Towler|   DSA|     41487|   41|Claude Panos_Judi...|\n",
      "| 28|  Male|  Margene Moores|   MVC|     52771|   32|Toshiko Hillyard_...|\n",
      "| 28|  Male|     Neda Briski|   OOP|     61973|   69|Alberta Freund_El...|\n",
      "| 28|Female|    Claude Panos| Cloud|     72409|   85|Sheryll Towler_Al...|\n",
      "| 28|  Male|  Celeste Lollis|   MVC|     81492|   64|Nicole Harwood_Cl...|\n",
      "| 29|  Male|  Cordie Harnois|   OOP|     92882|   51|Judie Chipps_Clem...|\n",
      "| 29|Female|       Kena Wild|   DSA|    102285|   35|Dustin Feagins_Ma...|\n",
      "| 29|  Male| Ernest Rossbach|    DB|    111449|   53|Maybell Duguay_Ab...|\n",
      "| 28|Female|  Latia Vanhoose|    DB|    122502|   27|Latia Vanhoose_Mi...|\n",
      "| 29|Female|  Latia Vanhoose|   MVC|    132110|   55|Eda Neathery_Nico...|\n",
      "| 29|  Male|     Neda Briski|    PF|    141770|   42|Margene Moores_Mi...|\n",
      "| 29|Female|  Latia Vanhoose|    DB|    152159|   27|Claude Panos_Sant...|\n",
      "| 29|  Male|  Loris Crossett|   MVC|    161771|   36|Mitzi Seldon_Jenn...|\n",
      "| 29|  Male|  Annika Hoffman|   OOP|    171660|   22|Taryn Brownlee_Mi...|\n",
      "| 29|  Male|   Santa Kerfien|    PF|    182129|   56|Judie Chipps_Tary...|\n",
      "| 28|Female|Mickey Cortright|    DB|    192537|   62|Ernest Rossbach_M...|\n",
      "+---+------+----------------+------+----------+-----+--------------------+\n",
      "only showing top 20 rows\n",
      "\n"
     ]
    }
   ],
   "source": [
    "dfR = df.withColumnRenamed(\"roll\",\"rollnumber\").withColumnRenamed(\"email\",\"emailid\")\n",
    "dfR.show()"
   ]
  },
  {
   "cell_type": "code",
   "execution_count": 131,
   "id": "44761d57",
   "metadata": {},
   "outputs": [
    {
     "name": "stdout",
     "output_type": "stream",
     "text": [
      "+---+------+------------------+------+-------+-----+--------------------+\n",
      "|age|gender|              name|course|   roll|marks|               email|\n",
      "+---+------+------------------+------+-------+-----+--------------------+\n",
      "| 28|Female|   Hubert Oliveras|    DB|   2984|   59|Annika Hoffman_Na...|\n",
      "| 29|  Male|   Ernest Rossbach|    DB| 111449|   53|Maybell Duguay_Ab...|\n",
      "| 28|Female|  Mickey Cortright|    DB| 192537|   62|Ernest Rossbach_M...|\n",
      "| 28|Female|       Anna Santos|    DB| 311589|   79|Celeste Lollis_Mi...|\n",
      "| 29|  Male|      Paris Hutton|    DB| 481229|   57|Clementina Menke_...|\n",
      "| 28|Female|   Hubert Oliveras|    DB| 771081|   79|Kizzy Brenner_Dus...|\n",
      "| 29|Female|      Elenore Choy|    DB| 811824|   55|Maybell Duguay_Me...|\n",
      "| 29|  Male|  Clementina Menke|    DB| 882200|   76|Michelle Ruggiero...|\n",
      "| 29|Female|   Sebrina Maresca|    DB| 922210|   54|Toshiko Hillyard_...|\n",
      "| 29|  Male|      Naoma Fritts|    DB| 931295|   79|Hubert Oliveras_S...|\n",
      "| 29|Female|      Claude Panos|    DB|1222887|   75|Hubert Oliveras_S...|\n",
      "| 29|Female| Leontine Phillips|    DB|1432252|   67|Billi Clore_Shery...|\n",
      "| 28|Female|   Gonzalo Ferebee|    DB|1451513|   69|Claude Panos_Tame...|\n",
      "| 28|  Male|   Marylee Capasso|    DB|1611411|   96|Annika Hoffman_Lo...|\n",
      "| 29|  Male|    Alberta Freund|    DB|1671638|   98|Clementina Menke_...|\n",
      "| 28|Female|Priscila Tavernier|    DB|1722388|   86|Lawanda Wohlwend_...|\n",
      "| 29|  Male|    Dustin Feagins|    DB|1782045|   81|Cordie Harnois_To...|\n",
      "| 29|  Male|     Tijuana Kropf|    DB|1882795|   92|Hubert Oliveras_E...|\n",
      "| 28|  Male|   Ernest Rossbach|    DB|1901492|   54|Latia Vanhoose_Jc...|\n",
      "| 29|Female| Leontine Phillips|    DB|1972893|   64|Marylee Capasso_E...|\n",
      "+---+------+------------------+------+-------+-----+--------------------+\n",
      "only showing top 20 rows\n",
      "\n"
     ]
    }
   ],
   "source": [
    "df.filter( (df.course =='DB') & (df.marks>50)).show()"
   ]
  },
  {
   "cell_type": "code",
   "execution_count": 132,
   "id": "834b79ca",
   "metadata": {},
   "outputs": [
    {
     "name": "stdout",
     "output_type": "stream",
     "text": [
      "+---+------+----------------+------+------+-----+--------------------+\n",
      "|age|gender|            name|course|  roll|marks|               email|\n",
      "+---+------+----------------+------+------+-----+--------------------+\n",
      "| 28|Female| Hubert Oliveras|    DB|  2984|   59|Annika Hoffman_Na...|\n",
      "| 29|Female|    Elenore Choy|    DB| 32877|   29|Billi Clore_Mitzi...|\n",
      "| 28|  Male|  Sheryll Towler|   DSA| 41487|   41|Claude Panos_Judi...|\n",
      "| 28|  Male|     Neda Briski|   OOP| 61973|   69|Alberta Freund_El...|\n",
      "| 29|  Male|  Cordie Harnois|   OOP| 92882|   51|Judie Chipps_Clem...|\n",
      "| 29|Female|       Kena Wild|   DSA|102285|   35|Dustin Feagins_Ma...|\n",
      "| 29|  Male| Ernest Rossbach|    DB|111449|   53|Maybell Duguay_Ab...|\n",
      "| 28|Female|  Latia Vanhoose|    DB|122502|   27|Latia Vanhoose_Mi...|\n",
      "| 29|Female|  Latia Vanhoose|    DB|152159|   27|Claude Panos_Sant...|\n",
      "| 29|  Male|  Annika Hoffman|   OOP|171660|   22|Taryn Brownlee_Mi...|\n",
      "| 28|Female|Mickey Cortright|    DB|192537|   62|Ernest Rossbach_M...|\n",
      "| 28|Female|    Jc Andrepont|   DSA|232060|   58|Billi Clore_Abram...|\n",
      "| 28|Female|  Alberta Freund|   OOP|251805|   83|Annika Hoffman_Sh...|\n",
      "| 29|Female|    Paris Hutton|   DSA|271472|   99|Sheryll Towler_Al...|\n",
      "| 28|Female|  Dustin Feagins|   DSA|291984|   82|Abram Nagao_Kena ...|\n",
      "| 28|Female|     Anna Santos|    DB|311589|   79|Celeste Lollis_Mi...|\n",
      "| 28|Female|Mickey Cortright|   DSA|342003|   44|Mitzi Seldon_Jean...|\n",
      "| 28|  Male| Hubert Oliveras|   OOP|351719|   63|Lawanda Wohlwend_...|\n",
      "| 28|  Male|   Kizzy Brenner|    DB|381712|   36|Paris Hutton_Kena...|\n",
      "| 28|  Male|Toshiko Hillyard|    DB|392218|   47|Leontine Phillips...|\n",
      "+---+------+----------------+------+------+-----+--------------------+\n",
      "only showing top 20 rows\n",
      "\n"
     ]
    }
   ],
   "source": [
    "courses =[\"OOP\",\"DB\",\"DSA\"]\n",
    "df.filter(df.course.isin(courses)).show()"
   ]
  },
  {
   "cell_type": "code",
   "execution_count": 133,
   "id": "5cd2c0b1",
   "metadata": {},
   "outputs": [
    {
     "name": "stdout",
     "output_type": "stream",
     "text": [
      "+---+------+--------------+------+-------+-----+--------------------+\n",
      "|age|gender|          name|course|   roll|marks|               email|\n",
      "+---+------+--------------+------+-------+-----+--------------------+\n",
      "| 29|  Male|Annika Hoffman|   OOP| 171660|   22|Taryn Brownlee_Mi...|\n",
      "| 28|Female|Alberta Freund|   OOP| 251805|   83|Annika Hoffman_Sh...|\n",
      "| 28|Female|   Anna Santos|    DB| 311589|   79|Celeste Lollis_Mi...|\n",
      "| 29|Female|   Anna Santos|   DSA| 411479|   42|Kena Wild_Mitzi S...|\n",
      "| 29|  Male|Annika Hoffman|   OOP| 472550|   35|Mitzi Seldon_Abra...|\n",
      "| 28|  Male|   Anna Santos|   OOP| 822396|   47|Leontine Phillips...|\n",
      "| 28|  Male|Annika Hoffman|    DB|1031544|   44|Dustin Feagins_So...|\n",
      "| 29|Female|   Abram Nagao|   DSA|1181007|   57|Anna Santos_Anna ...|\n",
      "| 28|  Male|   Abram Nagao|   DSA|1382959|   66|Michelle Ruggiero...|\n",
      "| 29|Female|Annika Hoffman|   OOP|1551846|   50|Paris Hutton_Mela...|\n",
      "| 28|  Male|   Anna Santos|   OOP|1621905|   24|Elenore Choy_Sant...|\n",
      "| 29|  Male|Alberta Freund|    DB|1671638|   98|Clementina Menke_...|\n",
      "| 29|Female|   Anna Santos|   DSA|1702439|   64|Naoma Fritts_Tosh...|\n",
      "| 28|Female|   Anna Santos|   DSA|1741879|   89|Nicole Harwood_La...|\n",
      "| 29|  Male|Alberta Freund|   OOP|1841931|   37|Jenna Montague_Ta...|\n",
      "| 29|Female|   Abram Nagao|   DSA|2041248|   72|Latia Vanhoose_Ke...|\n",
      "| 29|  Male|Alberta Freund|   DSA|2341989|   68|Jeannetta Golden_...|\n",
      "| 28|Female|   Abram Nagao|    DB|2632057|   25|Margene Moores_So...|\n",
      "| 29|  Male|   Abram Nagao|    DB|2841061|   25|Leontine Phillips...|\n",
      "| 28|Female|Alberta Freund|   OOP|2881304|   62|Loris Crossett_Jc...|\n",
      "+---+------+--------------+------+-------+-----+--------------------+\n",
      "only showing top 20 rows\n",
      "\n"
     ]
    }
   ],
   "source": [
    "courses =[\"OOP\",\"DB\",\"DSA\"]\n",
    "df.filter(df.course.isin(courses) & df.name.startswith('A')).show()"
   ]
  },
  {
   "cell_type": "code",
   "execution_count": 134,
   "id": "f7d562ad",
   "metadata": {},
   "outputs": [],
   "source": [
    "dfPercentage = df.withColumn( \"total\", lit(120) )\n",
    "dfPercentage = dfPercentage.withColumn(\"Percentage\", (dfPercentage.marks/dfPercentage.total)*100 )"
   ]
  },
  {
   "cell_type": "code",
   "execution_count": 136,
   "id": "7de6ba6c",
   "metadata": {},
   "outputs": [
    {
     "name": "stdout",
     "output_type": "stream",
     "text": [
      "+---+------+----------------+------+------+-----+--------------------+-----+------------------+\n",
      "|age|gender|            name|course|  roll|marks|               email|total|        Percentage|\n",
      "+---+------+----------------+------+------+-----+--------------------+-----+------------------+\n",
      "| 28|Female| Hubert Oliveras|    DB|  2984|   59|Annika Hoffman_Na...|  120|49.166666666666664|\n",
      "| 29|Female|Toshiko Hillyard| Cloud| 12899|   62|Margene Moores_Ma...|  120| 51.66666666666667|\n",
      "| 28|  Male|  Celeste Lollis|    PF| 21267|   45|Jeannetta Golden_...|  120|              37.5|\n",
      "| 29|Female|    Elenore Choy|    DB| 32877|   29|Billi Clore_Mitzi...|  120|24.166666666666668|\n",
      "| 28|  Male|  Sheryll Towler|   DSA| 41487|   41|Claude Panos_Judi...|  120|34.166666666666664|\n",
      "| 28|  Male|  Margene Moores|   MVC| 52771|   32|Toshiko Hillyard_...|  120|26.666666666666668|\n",
      "| 28|  Male|     Neda Briski|   OOP| 61973|   69|Alberta Freund_El...|  120| 57.49999999999999|\n",
      "| 28|Female|    Claude Panos| Cloud| 72409|   85|Sheryll Towler_Al...|  120| 70.83333333333334|\n",
      "| 28|  Male|  Celeste Lollis|   MVC| 81492|   64|Nicole Harwood_Cl...|  120|53.333333333333336|\n",
      "| 29|  Male|  Cordie Harnois|   OOP| 92882|   51|Judie Chipps_Clem...|  120|              42.5|\n",
      "| 29|Female|       Kena Wild|   DSA|102285|   35|Dustin Feagins_Ma...|  120|29.166666666666668|\n",
      "| 29|  Male| Ernest Rossbach|    DB|111449|   53|Maybell Duguay_Ab...|  120|44.166666666666664|\n",
      "| 28|Female|  Latia Vanhoose|    DB|122502|   27|Latia Vanhoose_Mi...|  120|              22.5|\n",
      "| 29|Female|  Latia Vanhoose|   MVC|132110|   55|Eda Neathery_Nico...|  120| 45.83333333333333|\n",
      "| 29|  Male|     Neda Briski|    PF|141770|   42|Margene Moores_Mi...|  120|              35.0|\n",
      "| 29|Female|  Latia Vanhoose|    DB|152159|   27|Claude Panos_Sant...|  120|              22.5|\n",
      "| 29|  Male|  Loris Crossett|   MVC|161771|   36|Mitzi Seldon_Jenn...|  120|              30.0|\n",
      "| 29|  Male|  Annika Hoffman|   OOP|171660|   22|Taryn Brownlee_Mi...|  120|18.333333333333332|\n",
      "| 29|  Male|   Santa Kerfien|    PF|182129|   56|Judie Chipps_Tary...|  120|46.666666666666664|\n",
      "| 28|Female|Mickey Cortright|    DB|192537|   62|Ernest Rossbach_M...|  120| 51.66666666666667|\n",
      "+---+------+----------------+------+------+-----+--------------------+-----+------------------+\n",
      "only showing top 20 rows\n",
      "\n"
     ]
    }
   ],
   "source": [
    "dfPercentage.show()"
   ]
  },
  {
   "cell_type": "code",
   "execution_count": null,
   "id": "5e10c60c",
   "metadata": {},
   "outputs": [],
   "source": []
  },
  {
   "cell_type": "code",
   "execution_count": null,
   "id": "a25efdf5",
   "metadata": {},
   "outputs": [],
   "source": []
  }
 ],
 "metadata": {
  "kernelspec": {
   "display_name": "Python 3 (ipykernel)",
   "language": "python",
   "name": "python3"
  },
  "language_info": {
   "codemirror_mode": {
    "name": "ipython",
    "version": 3
   },
   "file_extension": ".py",
   "mimetype": "text/x-python",
   "name": "python",
   "nbconvert_exporter": "python",
   "pygments_lexer": "ipython3",
   "version": "3.9.7"
  }
 },
 "nbformat": 4,
 "nbformat_minor": 5
}
