{
 "cells": [
  {
   "cell_type": "code",
   "execution_count": 3,
   "id": "75d498b7",
   "metadata": {},
   "outputs": [
    {
     "name": "stdout",
     "output_type": "stream",
     "text": [
      "root\n",
      " |-- employee_name: string (nullable = true)\n",
      " |-- department: string (nullable = true)\n",
      " |-- state: string (nullable = true)\n",
      " |-- salary: integer (nullable = true)\n",
      " |-- age: integer (nullable = true)\n",
      " |-- bonus: integer (nullable = true)\n",
      "\n"
     ]
    }
   ],
   "source": [
    "from pyspark.sql import SparkSession\n",
    "from pyspark.sql.types import  IntegerType\n",
    "from pyspark.sql.functions import udf\n",
    "\n",
    "ss = SparkSession.builder.appName(\"Spark Data Frame Example\").getOrCreate()\n",
    "df = ss.read.options(inferSchema='True', header='True').csv('OfficeData.csv')\n",
    "\n",
    "df.printSchema()"
   ]
  },
  {
   "cell_type": "markdown",
   "id": "6f23ff17",
   "metadata": {},
   "source": [
    "NY: 10% of Sal + 5% of bonus\n",
    "CA: 12% of Sal + 3% of bonus"
   ]
  },
  {
   "cell_type": "code",
   "execution_count": 4,
   "id": "78f4d9e1",
   "metadata": {},
   "outputs": [
    {
     "name": "stdout",
     "output_type": "stream",
     "text": [
      "+-------------+----------+-----+------+---+-----+---------+\n",
      "|employee_name|department|state|salary|age|bonus|increment|\n",
      "+-------------+----------+-----+------+---+-----+---------+\n",
      "|        James|     Sales|   NY| 90000| 34|10000|     9500|\n",
      "|      Michael|     Sales|   NY| 86000| 56|20000|     9600|\n",
      "|       Robert|     Sales|   CA| 81000| 30|23000|    10410|\n",
      "|        Maria|   Finance|   CA| 90000| 24|23000|    11490|\n",
      "|        Raman|   Finance|   CA| 99000| 40|24000|    12600|\n",
      "|        Scott|   Finance|   NY| 83000| 36|19000|     9250|\n",
      "|          Jen|   Finance|   NY| 79000| 53|15000|     8650|\n",
      "|         Jeff| Marketing|   CA| 80000| 25|18000|    10140|\n",
      "|        Kumar| Marketing|   NY| 91000| 50|21000|    10150|\n",
      "+-------------+----------+-----+------+---+-----+---------+\n",
      "\n"
     ]
    }
   ],
   "source": [
    "def calculateIncrement(state,salary,bonus):\n",
    "    sum = 0\n",
    "    if(state == \"NY\"):\n",
    "        sum =  (salary*.10) \n",
    "        sum += (bonus * .05)\n",
    "    elif state ==\"CA\":\n",
    "        sum =  (salary*.12) \n",
    "        sum += (bonus * .03)\n",
    "    return int(sum)\n",
    "\n",
    "increment = udf(lambda x,y,z:calculateIncrement(x,y,z), IntegerType())\n",
    "#df2 = df.withColumn(\"increment\",lit(100))\n",
    "df2 = df.withColumn(\"increment\",increment(df.state,df.salary,df.bonus))\n",
    "df2.show()"
   ]
  },
  {
   "cell_type": "code",
   "execution_count": 5,
   "id": "49b2887f",
   "metadata": {},
   "outputs": [
    {
     "data": {
      "text/plain": [
       "DataFrame[employee_name: string, department: string, state: string, salary: int, age: int, bonus: int, increment: int]"
      ]
     },
     "execution_count": 5,
     "metadata": {},
     "output_type": "execute_result"
    }
   ],
   "source": [
    "df2.cache()"
   ]
  },
  {
   "cell_type": "code",
   "execution_count": 7,
   "id": "8340d366",
   "metadata": {},
   "outputs": [
    {
     "name": "stdout",
     "output_type": "stream",
     "text": [
      "+-------------+----------+-----+------+---+-----+---------+\n",
      "|employee_name|department|state|salary|age|bonus|increment|\n",
      "+-------------+----------+-----+------+---+-----+---------+\n",
      "|        James|     Sales|   NY| 90000| 34|10000|     9500|\n",
      "|      Michael|     Sales|   NY| 86000| 56|20000|     9600|\n",
      "|       Robert|     Sales|   CA| 81000| 30|23000|    10410|\n",
      "|        Maria|   Finance|   CA| 90000| 24|23000|    11490|\n",
      "|        Raman|   Finance|   CA| 99000| 40|24000|    12600|\n",
      "|        Scott|   Finance|   NY| 83000| 36|19000|     9250|\n",
      "|          Jen|   Finance|   NY| 79000| 53|15000|     8650|\n",
      "|         Jeff| Marketing|   CA| 80000| 25|18000|    10140|\n",
      "|        Kumar| Marketing|   NY| 91000| 50|21000|    10150|\n",
      "+-------------+----------+-----+------+---+-----+---------+\n",
      "\n"
     ]
    }
   ],
   "source": [
    "df2.show()"
   ]
  },
  {
   "cell_type": "code",
   "execution_count": null,
   "id": "06f45327",
   "metadata": {},
   "outputs": [],
   "source": []
  }
 ],
 "metadata": {
  "kernelspec": {
   "display_name": "Python 3 (ipykernel)",
   "language": "python",
   "name": "python3"
  },
  "language_info": {
   "codemirror_mode": {
    "name": "ipython",
    "version": 3
   },
   "file_extension": ".py",
   "mimetype": "text/x-python",
   "name": "python",
   "nbconvert_exporter": "python",
   "pygments_lexer": "ipython3",
   "version": "3.9.7"
  }
 },
 "nbformat": 4,
 "nbformat_minor": 5
}
