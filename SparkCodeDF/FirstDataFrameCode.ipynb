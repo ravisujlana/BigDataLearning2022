{
 "cells": [
  {
   "cell_type": "code",
   "execution_count": 115,
   "id": "cdb49ad9",
   "metadata": {},
   "outputs": [],
   "source": [
    "from pyspark.sql import SparkSession\n",
    "from pyspark.sql.types import StructType, StructField, StringType, IntegerType\n",
    "from pyspark.sql.functions import col, lit,round\n",
    "ss = SparkSession.builder.appName(\"Spark Data Frame Example\").getOrCreate()"
   ]
  },
  {
   "cell_type": "markdown",
   "id": "41b60364",
   "metadata": {},
   "source": [
    "Import Student.csv file, infer schema and set header = True to tell the 1st row is a header row"
   ]
  },
  {
   "cell_type": "code",
   "execution_count": 175,
   "id": "a765b5bb",
   "metadata": {},
   "outputs": [
    {
     "name": "stdout",
     "output_type": "stream",
     "text": [
      "root\n",
      " |-- age: integer (nullable = true)\n",
      " |-- gender: string (nullable = true)\n",
      " |-- name: string (nullable = true)\n",
      " |-- course: string (nullable = true)\n",
      " |-- roll: integer (nullable = true)\n",
      " |-- marks: integer (nullable = true)\n",
      " |-- email: string (nullable = true)\n",
      "\n"
     ]
    }
   ],
   "source": [
    "df = ss.read.options(inferSchema='True', header='True').csv('StudentData.csv')\n",
    "df.printSchema()\n"
   ]
  },
  {
   "cell_type": "markdown",
   "id": "3256d4c3",
   "metadata": {},
   "source": [
    "Define schema since roll does not need to be an integer"
   ]
  },
  {
   "cell_type": "code",
   "execution_count": 176,
   "id": "b943ee56",
   "metadata": {},
   "outputs": [],
   "source": [
    "\n",
    "schema1 = StructType([\n",
    "                StructField(\"age\",IntegerType(),True),\n",
    "                StructField(\"gender\",StringType(),True),\n",
    "                StructField(\"name\",StringType(),True),\n",
    "                StructField(\"course\",StringType(),True),\n",
    "                StructField(\"roll\",StringType(),True),\n",
    "                StructField(\"marks\",IntegerType(),True),\n",
    "                StructField(\"email\",StringType(),True)    \n",
    "]\n",
    ")"
   ]
  },
  {
   "cell_type": "markdown",
   "id": "5d73df2a",
   "metadata": {},
   "source": [
    "Another way to read csv with schema option and via Spark Session"
   ]
  },
  {
   "cell_type": "code",
   "execution_count": 177,
   "id": "a89b1510",
   "metadata": {},
   "outputs": [
    {
     "name": "stdout",
     "output_type": "stream",
     "text": [
      "root\n",
      " |-- age: integer (nullable = true)\n",
      " |-- gender: string (nullable = true)\n",
      " |-- name: string (nullable = true)\n",
      " |-- course: string (nullable = true)\n",
      " |-- roll: string (nullable = true)\n",
      " |-- marks: integer (nullable = true)\n",
      " |-- email: string (nullable = true)\n",
      "\n"
     ]
    }
   ],
   "source": [
    "df = ss.read.options(header='True').schema(schema1).csv('StudentData.csv')\n",
    "df.printSchema()"
   ]
  },
  {
   "cell_type": "markdown",
   "id": "898bf2cf",
   "metadata": {},
   "source": [
    "Creating DF from RDD.\n",
    "\n",
    "Have to convert the column into int before using schema for DF Creation"
   ]
  },
  {
   "cell_type": "code",
   "execution_count": 179,
   "id": "aa17e5f4",
   "metadata": {},
   "outputs": [
    {
     "name": "stdout",
     "output_type": "stream",
     "text": [
      "root\n",
      " |-- age: long (nullable = true)\n",
      " |-- gender: string (nullable = true)\n",
      " |-- name: string (nullable = true)\n",
      " |-- course: string (nullable = true)\n",
      " |-- roll: string (nullable = true)\n",
      " |-- marks: long (nullable = true)\n",
      " |-- email: string (nullable = true)\n",
      "\n",
      "+---+------+----------------+------+------+-----+--------------------+\n",
      "|age|gender|            name|course|  roll|marks|               email|\n",
      "+---+------+----------------+------+------+-----+--------------------+\n",
      "| 28|Female| Hubert Oliveras|    DB|  2984|   59|Annika Hoffman_Na...|\n",
      "| 29|Female|Toshiko Hillyard| Cloud| 12899|   62|Margene Moores_Ma...|\n",
      "| 28|  Male|  Celeste Lollis|    PF| 21267|   45|Jeannetta Golden_...|\n",
      "| 29|Female|    Elenore Choy|    DB| 32877|   29|Billi Clore_Mitzi...|\n",
      "| 28|  Male|  Sheryll Towler|   DSA| 41487|   41|Claude Panos_Judi...|\n",
      "| 28|  Male|  Margene Moores|   MVC| 52771|   32|Toshiko Hillyard_...|\n",
      "| 28|  Male|     Neda Briski|   OOP| 61973|   69|Alberta Freund_El...|\n",
      "| 28|Female|    Claude Panos| Cloud| 72409|   85|Sheryll Towler_Al...|\n",
      "| 28|  Male|  Celeste Lollis|   MVC| 81492|   64|Nicole Harwood_Cl...|\n",
      "| 29|  Male|  Cordie Harnois|   OOP| 92882|   51|Judie Chipps_Clem...|\n",
      "| 29|Female|       Kena Wild|   DSA|102285|   35|Dustin Feagins_Ma...|\n",
      "| 29|  Male| Ernest Rossbach|    DB|111449|   53|Maybell Duguay_Ab...|\n",
      "| 28|Female|  Latia Vanhoose|    DB|122502|   27|Latia Vanhoose_Mi...|\n",
      "| 29|Female|  Latia Vanhoose|   MVC|132110|   55|Eda Neathery_Nico...|\n",
      "| 29|  Male|     Neda Briski|    PF|141770|   42|Margene Moores_Mi...|\n",
      "| 29|Female|  Latia Vanhoose|    DB|152159|   27|Claude Panos_Sant...|\n",
      "| 29|  Male|  Loris Crossett|   MVC|161771|   36|Mitzi Seldon_Jenn...|\n",
      "| 29|  Male|  Annika Hoffman|   OOP|171660|   22|Taryn Brownlee_Mi...|\n",
      "| 29|  Male|   Santa Kerfien|    PF|182129|   56|Judie Chipps_Tary...|\n",
      "| 28|Female|Mickey Cortright|    DB|192537|   62|Ernest Rossbach_M...|\n",
      "+---+------+----------------+------+------+-----+--------------------+\n",
      "only showing top 20 rows\n",
      "\n"
     ]
    }
   ],
   "source": [
    "from pyspark import SparkContext, SparkConf\n",
    "\n",
    "conf = SparkConf().setAppName(\"Read File\")\n",
    "\n",
    "sc = SparkContext.getOrCreate(conf=conf)\n",
    "\n",
    "rdd = sc.textFile('StudentData.csv')\n",
    "header = rdd.first()\n",
    "rdd = rdd.filter(lambda x: x!=header).map(lambda x:x.split(','))\n",
    "rdd = rdd.map(lambda x:[int(x[0]),x[1],x[2],x[3],x[4],int(x[5]),x[6] ])\n",
    "columns = header.split(',')\n",
    "df2 = rdd.toDF(columns)\n",
    "df2.printSchema()\n",
    "df2.show()\n"
   ]
  },
  {
   "cell_type": "markdown",
   "id": "4ff295cd",
   "metadata": {},
   "source": [
    "Create DF from RDD using Schema Option"
   ]
  },
  {
   "cell_type": "code",
   "execution_count": 166,
   "id": "8dd9ce68",
   "metadata": {},
   "outputs": [
    {
     "name": "stdout",
     "output_type": "stream",
     "text": [
      "root\n",
      " |-- age: integer (nullable = true)\n",
      " |-- gender: string (nullable = true)\n",
      " |-- name: string (nullable = true)\n",
      " |-- course: string (nullable = true)\n",
      " |-- roll: string (nullable = true)\n",
      " |-- marks: integer (nullable = true)\n",
      " |-- email: string (nullable = true)\n",
      "\n",
      "+---+------+----------------+------+------+-----+--------------------+\n",
      "|age|gender|            name|course|  roll|marks|               email|\n",
      "+---+------+----------------+------+------+-----+--------------------+\n",
      "| 28|Female| Hubert Oliveras|    DB|  2984|   59|Annika Hoffman_Na...|\n",
      "| 29|Female|Toshiko Hillyard| Cloud| 12899|   62|Margene Moores_Ma...|\n",
      "| 28|  Male|  Celeste Lollis|    PF| 21267|   45|Jeannetta Golden_...|\n",
      "| 29|Female|    Elenore Choy|    DB| 32877|   29|Billi Clore_Mitzi...|\n",
      "| 28|  Male|  Sheryll Towler|   DSA| 41487|   41|Claude Panos_Judi...|\n",
      "| 28|  Male|  Margene Moores|   MVC| 52771|   32|Toshiko Hillyard_...|\n",
      "| 28|  Male|     Neda Briski|   OOP| 61973|   69|Alberta Freund_El...|\n",
      "| 28|Female|    Claude Panos| Cloud| 72409|   85|Sheryll Towler_Al...|\n",
      "| 28|  Male|  Celeste Lollis|   MVC| 81492|   64|Nicole Harwood_Cl...|\n",
      "| 29|  Male|  Cordie Harnois|   OOP| 92882|   51|Judie Chipps_Clem...|\n",
      "| 29|Female|       Kena Wild|   DSA|102285|   35|Dustin Feagins_Ma...|\n",
      "| 29|  Male| Ernest Rossbach|    DB|111449|   53|Maybell Duguay_Ab...|\n",
      "| 28|Female|  Latia Vanhoose|    DB|122502|   27|Latia Vanhoose_Mi...|\n",
      "| 29|Female|  Latia Vanhoose|   MVC|132110|   55|Eda Neathery_Nico...|\n",
      "| 29|  Male|     Neda Briski|    PF|141770|   42|Margene Moores_Mi...|\n",
      "| 29|Female|  Latia Vanhoose|    DB|152159|   27|Claude Panos_Sant...|\n",
      "| 29|  Male|  Loris Crossett|   MVC|161771|   36|Mitzi Seldon_Jenn...|\n",
      "| 29|  Male|  Annika Hoffman|   OOP|171660|   22|Taryn Brownlee_Mi...|\n",
      "| 29|  Male|   Santa Kerfien|    PF|182129|   56|Judie Chipps_Tary...|\n",
      "| 28|Female|Mickey Cortright|    DB|192537|   62|Ernest Rossbach_M...|\n",
      "+---+------+----------------+------+------+-----+--------------------+\n",
      "only showing top 20 rows\n",
      "\n"
     ]
    }
   ],
   "source": [
    "df3 = spark.createDataFrame(rdd,schema1 )\n",
    "df3.printSchema()\n",
    "df3.show()"
   ]
  },
  {
   "cell_type": "code",
   "execution_count": 180,
   "id": "d234d17c",
   "metadata": {},
   "outputs": [
    {
     "ename": "SyntaxError",
     "evalue": "invalid syntax (4187557306.py, line 1)",
     "output_type": "error",
     "traceback": [
      "\u001b[0;36m  File \u001b[0;32m\"/var/folders/wl/nplnnx850h75f8zx_g31cl_w0000gn/T/ipykernel_14665/4187557306.py\"\u001b[0;36m, line \u001b[0;32m1\u001b[0m\n\u001b[0;31m    Use select to select only required columns\u001b[0m\n\u001b[0m        ^\u001b[0m\n\u001b[0;31mSyntaxError\u001b[0m\u001b[0;31m:\u001b[0m invalid syntax\n"
     ]
    }
   ],
   "source": [
    "Use select to select only required columns"
   ]
  },
  {
   "cell_type": "code",
   "execution_count": 181,
   "id": "04536e2c",
   "metadata": {},
   "outputs": [
    {
     "name": "stdout",
     "output_type": "stream",
     "text": [
      "+------+-----+\n",
      "|gender|marks|\n",
      "+------+-----+\n",
      "|Female|   59|\n",
      "|Female|   62|\n",
      "|  Male|   45|\n",
      "|Female|   29|\n",
      "|  Male|   41|\n",
      "|  Male|   32|\n",
      "|  Male|   69|\n",
      "|Female|   85|\n",
      "|  Male|   64|\n",
      "|  Male|   51|\n",
      "|Female|   35|\n",
      "|  Male|   53|\n",
      "|Female|   27|\n",
      "|Female|   55|\n",
      "|  Male|   42|\n",
      "|Female|   27|\n",
      "|  Male|   36|\n",
      "|  Male|   22|\n",
      "|  Male|   56|\n",
      "|Female|   62|\n",
      "+------+-----+\n",
      "only showing top 20 rows\n",
      "\n"
     ]
    }
   ],
   "source": [
    "df3.select(\"gender\",\"marks\").show()"
   ]
  },
  {
   "cell_type": "markdown",
   "id": "0ffc533d",
   "metadata": {},
   "source": [
    "Another way to select columns"
   ]
  },
  {
   "cell_type": "code",
   "execution_count": 123,
   "id": "5b3c708f",
   "metadata": {},
   "outputs": [
    {
     "name": "stdout",
     "output_type": "stream",
     "text": [
      "+----------------+--------------------+\n",
      "|            name|               email|\n",
      "+----------------+--------------------+\n",
      "| Hubert Oliveras|Annika Hoffman_Na...|\n",
      "|Toshiko Hillyard|Margene Moores_Ma...|\n",
      "|  Celeste Lollis|Jeannetta Golden_...|\n",
      "|    Elenore Choy|Billi Clore_Mitzi...|\n",
      "|  Sheryll Towler|Claude Panos_Judi...|\n",
      "|  Margene Moores|Toshiko Hillyard_...|\n",
      "|     Neda Briski|Alberta Freund_El...|\n",
      "|    Claude Panos|Sheryll Towler_Al...|\n",
      "|  Celeste Lollis|Nicole Harwood_Cl...|\n",
      "|  Cordie Harnois|Judie Chipps_Clem...|\n",
      "|       Kena Wild|Dustin Feagins_Ma...|\n",
      "| Ernest Rossbach|Maybell Duguay_Ab...|\n",
      "|  Latia Vanhoose|Latia Vanhoose_Mi...|\n",
      "|  Latia Vanhoose|Eda Neathery_Nico...|\n",
      "|     Neda Briski|Margene Moores_Mi...|\n",
      "|  Latia Vanhoose|Claude Panos_Sant...|\n",
      "|  Loris Crossett|Mitzi Seldon_Jenn...|\n",
      "|  Annika Hoffman|Taryn Brownlee_Mi...|\n",
      "|   Santa Kerfien|Judie Chipps_Tary...|\n",
      "|Mickey Cortright|Ernest Rossbach_M...|\n",
      "+----------------+--------------------+\n",
      "only showing top 20 rows\n",
      "\n"
     ]
    }
   ],
   "source": [
    "df.select(df.name,df.email).show()\n"
   ]
  },
  {
   "cell_type": "markdown",
   "id": "0211d307",
   "metadata": {},
   "source": [
    "Another way to select columns"
   ]
  },
  {
   "cell_type": "code",
   "execution_count": 124,
   "id": "833a1d0d",
   "metadata": {},
   "outputs": [
    {
     "name": "stdout",
     "output_type": "stream",
     "text": [
      "+------+----------------+\n",
      "|  roll|            name|\n",
      "+------+----------------+\n",
      "|  2984| Hubert Oliveras|\n",
      "| 12899|Toshiko Hillyard|\n",
      "| 21267|  Celeste Lollis|\n",
      "| 32877|    Elenore Choy|\n",
      "| 41487|  Sheryll Towler|\n",
      "| 52771|  Margene Moores|\n",
      "| 61973|     Neda Briski|\n",
      "| 72409|    Claude Panos|\n",
      "| 81492|  Celeste Lollis|\n",
      "| 92882|  Cordie Harnois|\n",
      "|102285|       Kena Wild|\n",
      "|111449| Ernest Rossbach|\n",
      "|122502|  Latia Vanhoose|\n",
      "|132110|  Latia Vanhoose|\n",
      "|141770|     Neda Briski|\n",
      "|152159|  Latia Vanhoose|\n",
      "|161771|  Loris Crossett|\n",
      "|171660|  Annika Hoffman|\n",
      "|182129|   Santa Kerfien|\n",
      "|192537|Mickey Cortright|\n",
      "+------+----------------+\n",
      "only showing top 20 rows\n",
      "\n"
     ]
    }
   ],
   "source": [
    "df.select(col(\"roll\"),col(\"name\")).show()"
   ]
  },
  {
   "cell_type": "code",
   "execution_count": 125,
   "id": "acc197c6",
   "metadata": {},
   "outputs": [
    {
     "name": "stdout",
     "output_type": "stream",
     "text": [
      "+---+------+----------------+------+\n",
      "|age|gender|            name|course|\n",
      "+---+------+----------------+------+\n",
      "| 28|Female| Hubert Oliveras|    DB|\n",
      "| 29|Female|Toshiko Hillyard| Cloud|\n",
      "| 28|  Male|  Celeste Lollis|    PF|\n",
      "| 29|Female|    Elenore Choy|    DB|\n",
      "| 28|  Male|  Sheryll Towler|   DSA|\n",
      "| 28|  Male|  Margene Moores|   MVC|\n",
      "| 28|  Male|     Neda Briski|   OOP|\n",
      "| 28|Female|    Claude Panos| Cloud|\n",
      "| 28|  Male|  Celeste Lollis|   MVC|\n",
      "| 29|  Male|  Cordie Harnois|   OOP|\n",
      "| 29|Female|       Kena Wild|   DSA|\n",
      "| 29|  Male| Ernest Rossbach|    DB|\n",
      "| 28|Female|  Latia Vanhoose|    DB|\n",
      "| 29|Female|  Latia Vanhoose|   MVC|\n",
      "| 29|  Male|     Neda Briski|    PF|\n",
      "| 29|Female|  Latia Vanhoose|    DB|\n",
      "| 29|  Male|  Loris Crossett|   MVC|\n",
      "| 29|  Male|  Annika Hoffman|   OOP|\n",
      "| 29|  Male|   Santa Kerfien|    PF|\n",
      "| 28|Female|Mickey Cortright|    DB|\n",
      "+---+------+----------------+------+\n",
      "only showing top 20 rows\n",
      "\n"
     ]
    }
   ],
   "source": [
    "df.select(df.columns[:4]).show()"
   ]
  },
  {
   "cell_type": "code",
   "execution_count": 126,
   "id": "9eebf328",
   "metadata": {},
   "outputs": [
    {
     "name": "stdout",
     "output_type": "stream",
     "text": [
      "+------+------+-----+--------------------+\n",
      "|course|  roll|marks|               email|\n",
      "+------+------+-----+--------------------+\n",
      "|    DB|  2984|   59|Annika Hoffman_Na...|\n",
      "| Cloud| 12899|   62|Margene Moores_Ma...|\n",
      "|    PF| 21267|   45|Jeannetta Golden_...|\n",
      "|    DB| 32877|   29|Billi Clore_Mitzi...|\n",
      "|   DSA| 41487|   41|Claude Panos_Judi...|\n",
      "|   MVC| 52771|   32|Toshiko Hillyard_...|\n",
      "|   OOP| 61973|   69|Alberta Freund_El...|\n",
      "| Cloud| 72409|   85|Sheryll Towler_Al...|\n",
      "|   MVC| 81492|   64|Nicole Harwood_Cl...|\n",
      "|   OOP| 92882|   51|Judie Chipps_Clem...|\n",
      "|   DSA|102285|   35|Dustin Feagins_Ma...|\n",
      "|    DB|111449|   53|Maybell Duguay_Ab...|\n",
      "|    DB|122502|   27|Latia Vanhoose_Mi...|\n",
      "|   MVC|132110|   55|Eda Neathery_Nico...|\n",
      "|    PF|141770|   42|Margene Moores_Mi...|\n",
      "|    DB|152159|   27|Claude Panos_Sant...|\n",
      "|   MVC|161771|   36|Mitzi Seldon_Jenn...|\n",
      "|   OOP|171660|   22|Taryn Brownlee_Mi...|\n",
      "|    PF|182129|   56|Judie Chipps_Tary...|\n",
      "|    DB|192537|   62|Ernest Rossbach_M...|\n",
      "+------+------+-----+--------------------+\n",
      "only showing top 20 rows\n",
      "\n"
     ]
    }
   ],
   "source": [
    "df.select(df.columns[3:]).show()"
   ]
  },
  {
   "cell_type": "code",
   "execution_count": 127,
   "id": "d51a59b9",
   "metadata": {},
   "outputs": [
    {
     "name": "stdout",
     "output_type": "stream",
     "text": [
      "+------+-----+\n",
      "|course|marks|\n",
      "+------+-----+\n",
      "|    DB|   59|\n",
      "| Cloud|   62|\n",
      "|    PF|   45|\n",
      "|    DB|   29|\n",
      "|   DSA|   41|\n",
      "|   MVC|   32|\n",
      "|   OOP|   69|\n",
      "| Cloud|   85|\n",
      "|   MVC|   64|\n",
      "|   OOP|   51|\n",
      "|   DSA|   35|\n",
      "|    DB|   53|\n",
      "|    DB|   27|\n",
      "|   MVC|   55|\n",
      "|    PF|   42|\n",
      "|    DB|   27|\n",
      "|   MVC|   36|\n",
      "|   OOP|   22|\n",
      "|    PF|   56|\n",
      "|    DB|   62|\n",
      "+------+-----+\n",
      "only showing top 20 rows\n",
      "\n"
     ]
    }
   ],
   "source": [
    "df.select(df.columns[3],df.columns[5]).show()"
   ]
  },
  {
   "cell_type": "code",
   "execution_count": 128,
   "id": "6ea9d15c",
   "metadata": {},
   "outputs": [
    {
     "name": "stdout",
     "output_type": "stream",
     "text": [
      "+------+------+-----+---+\n",
      "|  roll|course|marks|age|\n",
      "+------+------+-----+---+\n",
      "|  2984|    DB|   59| 28|\n",
      "| 12899| Cloud|   62| 29|\n",
      "| 21267|    PF|   45| 28|\n",
      "| 32877|    DB|   29| 29|\n",
      "| 41487|   DSA|   41| 28|\n",
      "| 52771|   MVC|   32| 28|\n",
      "| 61973|   OOP|   69| 28|\n",
      "| 72409| Cloud|   85| 28|\n",
      "| 81492|   MVC|   64| 28|\n",
      "| 92882|   OOP|   51| 29|\n",
      "|102285|   DSA|   35| 29|\n",
      "|111449|    DB|   53| 29|\n",
      "|122502|    DB|   27| 28|\n",
      "|132110|   MVC|   55| 29|\n",
      "|141770|    PF|   42| 29|\n",
      "|152159|    DB|   27| 29|\n",
      "|161771|   MVC|   36| 29|\n",
      "|171660|   OOP|   22| 29|\n",
      "|182129|    PF|   56| 29|\n",
      "|192537|    DB|   62| 28|\n",
      "+------+------+-----+---+\n",
      "only showing top 20 rows\n",
      "\n"
     ]
    }
   ],
   "source": [
    "df.select(df.roll,\"course\",df.columns[5],'age').show()"
   ]
  },
  {
   "cell_type": "code",
   "execution_count": 129,
   "id": "5c8ed7bd",
   "metadata": {},
   "outputs": [
    {
     "name": "stdout",
     "output_type": "stream",
     "text": [
      "+---+------+----------------+------+------+-----+--------------------+-------+\n",
      "|age|gender|            name|course|  roll|marks|               email|Country|\n",
      "+---+------+----------------+------+------+-----+--------------------+-------+\n",
      "| 28|Female| Hubert Oliveras|    DB|  2984|   59|Annika Hoffman_Na...|    USA|\n",
      "| 29|Female|Toshiko Hillyard| Cloud| 12899|   62|Margene Moores_Ma...|    USA|\n",
      "| 28|  Male|  Celeste Lollis|    PF| 21267|   45|Jeannetta Golden_...|    USA|\n",
      "| 29|Female|    Elenore Choy|    DB| 32877|   29|Billi Clore_Mitzi...|    USA|\n",
      "| 28|  Male|  Sheryll Towler|   DSA| 41487|   41|Claude Panos_Judi...|    USA|\n",
      "| 28|  Male|  Margene Moores|   MVC| 52771|   32|Toshiko Hillyard_...|    USA|\n",
      "| 28|  Male|     Neda Briski|   OOP| 61973|   69|Alberta Freund_El...|    USA|\n",
      "| 28|Female|    Claude Panos| Cloud| 72409|   85|Sheryll Towler_Al...|    USA|\n",
      "| 28|  Male|  Celeste Lollis|   MVC| 81492|   64|Nicole Harwood_Cl...|    USA|\n",
      "| 29|  Male|  Cordie Harnois|   OOP| 92882|   51|Judie Chipps_Clem...|    USA|\n",
      "| 29|Female|       Kena Wild|   DSA|102285|   35|Dustin Feagins_Ma...|    USA|\n",
      "| 29|  Male| Ernest Rossbach|    DB|111449|   53|Maybell Duguay_Ab...|    USA|\n",
      "| 28|Female|  Latia Vanhoose|    DB|122502|   27|Latia Vanhoose_Mi...|    USA|\n",
      "| 29|Female|  Latia Vanhoose|   MVC|132110|   55|Eda Neathery_Nico...|    USA|\n",
      "| 29|  Male|     Neda Briski|    PF|141770|   42|Margene Moores_Mi...|    USA|\n",
      "| 29|Female|  Latia Vanhoose|    DB|152159|   27|Claude Panos_Sant...|    USA|\n",
      "| 29|  Male|  Loris Crossett|   MVC|161771|   36|Mitzi Seldon_Jenn...|    USA|\n",
      "| 29|  Male|  Annika Hoffman|   OOP|171660|   22|Taryn Brownlee_Mi...|    USA|\n",
      "| 29|  Male|   Santa Kerfien|    PF|182129|   56|Judie Chipps_Tary...|    USA|\n",
      "| 28|Female|Mickey Cortright|    DB|192537|   62|Ernest Rossbach_M...|    USA|\n",
      "+---+------+----------------+------+------+-----+--------------------+-------+\n",
      "only showing top 20 rows\n",
      "\n"
     ]
    }
   ],
   "source": [
    "dfNewCol = df.withColumn(\"Country\",lit(\"USA\"))\n",
    "dfNewCol.show()"
   ]
  },
  {
   "cell_type": "code",
   "execution_count": 130,
   "id": "fb3689dd",
   "metadata": {},
   "outputs": [
    {
     "name": "stdout",
     "output_type": "stream",
     "text": [
      "+---+------+----------------+------+----------+-----+--------------------+\n",
      "|age|gender|            name|course|rollnumber|marks|             emailid|\n",
      "+---+------+----------------+------+----------+-----+--------------------+\n",
      "| 28|Female| Hubert Oliveras|    DB|      2984|   59|Annika Hoffman_Na...|\n",
      "| 29|Female|Toshiko Hillyard| Cloud|     12899|   62|Margene Moores_Ma...|\n",
      "| 28|  Male|  Celeste Lollis|    PF|     21267|   45|Jeannetta Golden_...|\n",
      "| 29|Female|    Elenore Choy|    DB|     32877|   29|Billi Clore_Mitzi...|\n",
      "| 28|  Male|  Sheryll Towler|   DSA|     41487|   41|Claude Panos_Judi...|\n",
      "| 28|  Male|  Margene Moores|   MVC|     52771|   32|Toshiko Hillyard_...|\n",
      "| 28|  Male|     Neda Briski|   OOP|     61973|   69|Alberta Freund_El...|\n",
      "| 28|Female|    Claude Panos| Cloud|     72409|   85|Sheryll Towler_Al...|\n",
      "| 28|  Male|  Celeste Lollis|   MVC|     81492|   64|Nicole Harwood_Cl...|\n",
      "| 29|  Male|  Cordie Harnois|   OOP|     92882|   51|Judie Chipps_Clem...|\n",
      "| 29|Female|       Kena Wild|   DSA|    102285|   35|Dustin Feagins_Ma...|\n",
      "| 29|  Male| Ernest Rossbach|    DB|    111449|   53|Maybell Duguay_Ab...|\n",
      "| 28|Female|  Latia Vanhoose|    DB|    122502|   27|Latia Vanhoose_Mi...|\n",
      "| 29|Female|  Latia Vanhoose|   MVC|    132110|   55|Eda Neathery_Nico...|\n",
      "| 29|  Male|     Neda Briski|    PF|    141770|   42|Margene Moores_Mi...|\n",
      "| 29|Female|  Latia Vanhoose|    DB|    152159|   27|Claude Panos_Sant...|\n",
      "| 29|  Male|  Loris Crossett|   MVC|    161771|   36|Mitzi Seldon_Jenn...|\n",
      "| 29|  Male|  Annika Hoffman|   OOP|    171660|   22|Taryn Brownlee_Mi...|\n",
      "| 29|  Male|   Santa Kerfien|    PF|    182129|   56|Judie Chipps_Tary...|\n",
      "| 28|Female|Mickey Cortright|    DB|    192537|   62|Ernest Rossbach_M...|\n",
      "+---+------+----------------+------+----------+-----+--------------------+\n",
      "only showing top 20 rows\n",
      "\n"
     ]
    }
   ],
   "source": [
    "dfR = df.withColumnRenamed(\"roll\",\"rollnumber\").withColumnRenamed(\"email\",\"emailid\")\n",
    "dfR.show()"
   ]
  },
  {
   "cell_type": "code",
   "execution_count": 131,
   "id": "0a4b5d26",
   "metadata": {},
   "outputs": [
    {
     "name": "stdout",
     "output_type": "stream",
     "text": [
      "+---+------+------------------+------+-------+-----+--------------------+\n",
      "|age|gender|              name|course|   roll|marks|               email|\n",
      "+---+------+------------------+------+-------+-----+--------------------+\n",
      "| 28|Female|   Hubert Oliveras|    DB|   2984|   59|Annika Hoffman_Na...|\n",
      "| 29|  Male|   Ernest Rossbach|    DB| 111449|   53|Maybell Duguay_Ab...|\n",
      "| 28|Female|  Mickey Cortright|    DB| 192537|   62|Ernest Rossbach_M...|\n",
      "| 28|Female|       Anna Santos|    DB| 311589|   79|Celeste Lollis_Mi...|\n",
      "| 29|  Male|      Paris Hutton|    DB| 481229|   57|Clementina Menke_...|\n",
      "| 28|Female|   Hubert Oliveras|    DB| 771081|   79|Kizzy Brenner_Dus...|\n",
      "| 29|Female|      Elenore Choy|    DB| 811824|   55|Maybell Duguay_Me...|\n",
      "| 29|  Male|  Clementina Menke|    DB| 882200|   76|Michelle Ruggiero...|\n",
      "| 29|Female|   Sebrina Maresca|    DB| 922210|   54|Toshiko Hillyard_...|\n",
      "| 29|  Male|      Naoma Fritts|    DB| 931295|   79|Hubert Oliveras_S...|\n",
      "| 29|Female|      Claude Panos|    DB|1222887|   75|Hubert Oliveras_S...|\n",
      "| 29|Female| Leontine Phillips|    DB|1432252|   67|Billi Clore_Shery...|\n",
      "| 28|Female|   Gonzalo Ferebee|    DB|1451513|   69|Claude Panos_Tame...|\n",
      "| 28|  Male|   Marylee Capasso|    DB|1611411|   96|Annika Hoffman_Lo...|\n",
      "| 29|  Male|    Alberta Freund|    DB|1671638|   98|Clementina Menke_...|\n",
      "| 28|Female|Priscila Tavernier|    DB|1722388|   86|Lawanda Wohlwend_...|\n",
      "| 29|  Male|    Dustin Feagins|    DB|1782045|   81|Cordie Harnois_To...|\n",
      "| 29|  Male|     Tijuana Kropf|    DB|1882795|   92|Hubert Oliveras_E...|\n",
      "| 28|  Male|   Ernest Rossbach|    DB|1901492|   54|Latia Vanhoose_Jc...|\n",
      "| 29|Female| Leontine Phillips|    DB|1972893|   64|Marylee Capasso_E...|\n",
      "+---+------+------------------+------+-------+-----+--------------------+\n",
      "only showing top 20 rows\n",
      "\n"
     ]
    }
   ],
   "source": [
    "df.filter( (df.course =='DB') & (df.marks>50)).show()"
   ]
  },
  {
   "cell_type": "code",
   "execution_count": 132,
   "id": "35d5eda5",
   "metadata": {},
   "outputs": [
    {
     "name": "stdout",
     "output_type": "stream",
     "text": [
      "+---+------+----------------+------+------+-----+--------------------+\n",
      "|age|gender|            name|course|  roll|marks|               email|\n",
      "+---+------+----------------+------+------+-----+--------------------+\n",
      "| 28|Female| Hubert Oliveras|    DB|  2984|   59|Annika Hoffman_Na...|\n",
      "| 29|Female|    Elenore Choy|    DB| 32877|   29|Billi Clore_Mitzi...|\n",
      "| 28|  Male|  Sheryll Towler|   DSA| 41487|   41|Claude Panos_Judi...|\n",
      "| 28|  Male|     Neda Briski|   OOP| 61973|   69|Alberta Freund_El...|\n",
      "| 29|  Male|  Cordie Harnois|   OOP| 92882|   51|Judie Chipps_Clem...|\n",
      "| 29|Female|       Kena Wild|   DSA|102285|   35|Dustin Feagins_Ma...|\n",
      "| 29|  Male| Ernest Rossbach|    DB|111449|   53|Maybell Duguay_Ab...|\n",
      "| 28|Female|  Latia Vanhoose|    DB|122502|   27|Latia Vanhoose_Mi...|\n",
      "| 29|Female|  Latia Vanhoose|    DB|152159|   27|Claude Panos_Sant...|\n",
      "| 29|  Male|  Annika Hoffman|   OOP|171660|   22|Taryn Brownlee_Mi...|\n",
      "| 28|Female|Mickey Cortright|    DB|192537|   62|Ernest Rossbach_M...|\n",
      "| 28|Female|    Jc Andrepont|   DSA|232060|   58|Billi Clore_Abram...|\n",
      "| 28|Female|  Alberta Freund|   OOP|251805|   83|Annika Hoffman_Sh...|\n",
      "| 29|Female|    Paris Hutton|   DSA|271472|   99|Sheryll Towler_Al...|\n",
      "| 28|Female|  Dustin Feagins|   DSA|291984|   82|Abram Nagao_Kena ...|\n",
      "| 28|Female|     Anna Santos|    DB|311589|   79|Celeste Lollis_Mi...|\n",
      "| 28|Female|Mickey Cortright|   DSA|342003|   44|Mitzi Seldon_Jean...|\n",
      "| 28|  Male| Hubert Oliveras|   OOP|351719|   63|Lawanda Wohlwend_...|\n",
      "| 28|  Male|   Kizzy Brenner|    DB|381712|   36|Paris Hutton_Kena...|\n",
      "| 28|  Male|Toshiko Hillyard|    DB|392218|   47|Leontine Phillips...|\n",
      "+---+------+----------------+------+------+-----+--------------------+\n",
      "only showing top 20 rows\n",
      "\n"
     ]
    }
   ],
   "source": [
    "courses =[\"OOP\",\"DB\",\"DSA\"]\n",
    "df.filter(df.course.isin(courses)).show()"
   ]
  },
  {
   "cell_type": "code",
   "execution_count": 133,
   "id": "83aab187",
   "metadata": {},
   "outputs": [
    {
     "name": "stdout",
     "output_type": "stream",
     "text": [
      "+---+------+--------------+------+-------+-----+--------------------+\n",
      "|age|gender|          name|course|   roll|marks|               email|\n",
      "+---+------+--------------+------+-------+-----+--------------------+\n",
      "| 29|  Male|Annika Hoffman|   OOP| 171660|   22|Taryn Brownlee_Mi...|\n",
      "| 28|Female|Alberta Freund|   OOP| 251805|   83|Annika Hoffman_Sh...|\n",
      "| 28|Female|   Anna Santos|    DB| 311589|   79|Celeste Lollis_Mi...|\n",
      "| 29|Female|   Anna Santos|   DSA| 411479|   42|Kena Wild_Mitzi S...|\n",
      "| 29|  Male|Annika Hoffman|   OOP| 472550|   35|Mitzi Seldon_Abra...|\n",
      "| 28|  Male|   Anna Santos|   OOP| 822396|   47|Leontine Phillips...|\n",
      "| 28|  Male|Annika Hoffman|    DB|1031544|   44|Dustin Feagins_So...|\n",
      "| 29|Female|   Abram Nagao|   DSA|1181007|   57|Anna Santos_Anna ...|\n",
      "| 28|  Male|   Abram Nagao|   DSA|1382959|   66|Michelle Ruggiero...|\n",
      "| 29|Female|Annika Hoffman|   OOP|1551846|   50|Paris Hutton_Mela...|\n",
      "| 28|  Male|   Anna Santos|   OOP|1621905|   24|Elenore Choy_Sant...|\n",
      "| 29|  Male|Alberta Freund|    DB|1671638|   98|Clementina Menke_...|\n",
      "| 29|Female|   Anna Santos|   DSA|1702439|   64|Naoma Fritts_Tosh...|\n",
      "| 28|Female|   Anna Santos|   DSA|1741879|   89|Nicole Harwood_La...|\n",
      "| 29|  Male|Alberta Freund|   OOP|1841931|   37|Jenna Montague_Ta...|\n",
      "| 29|Female|   Abram Nagao|   DSA|2041248|   72|Latia Vanhoose_Ke...|\n",
      "| 29|  Male|Alberta Freund|   DSA|2341989|   68|Jeannetta Golden_...|\n",
      "| 28|Female|   Abram Nagao|    DB|2632057|   25|Margene Moores_So...|\n",
      "| 29|  Male|   Abram Nagao|    DB|2841061|   25|Leontine Phillips...|\n",
      "| 28|Female|Alberta Freund|   OOP|2881304|   62|Loris Crossett_Jc...|\n",
      "+---+------+--------------+------+-------+-----+--------------------+\n",
      "only showing top 20 rows\n",
      "\n"
     ]
    }
   ],
   "source": [
    "courses =[\"OOP\",\"DB\",\"DSA\"]\n",
    "df.filter(df.course.isin(courses) & df.name.startswith('A')).show()"
   ]
  },
  {
   "cell_type": "code",
   "execution_count": 169,
   "id": "aedd1833",
   "metadata": {},
   "outputs": [],
   "source": [
    "dfPercentage = df.withColumn( \"total\", lit(120) )\n",
    "dfPercentage = dfPercentage.withColumn(\"Percentage\", (dfPercentage.marks/dfPercentage.total)*100 )"
   ]
  },
  {
   "cell_type": "code",
   "execution_count": 170,
   "id": "0f6f75c7",
   "metadata": {},
   "outputs": [
    {
     "name": "stdout",
     "output_type": "stream",
     "text": [
      "+---+------+----------------+------+------+-----+--------------------+-----+------------------+\n",
      "|age|gender|            name|course|  roll|marks|               email|total|        Percentage|\n",
      "+---+------+----------------+------+------+-----+--------------------+-----+------------------+\n",
      "| 28|Female| Hubert Oliveras|    DB|  2984|   59|Annika Hoffman_Na...|  120|49.166666666666664|\n",
      "| 29|Female|Toshiko Hillyard| Cloud| 12899|   62|Margene Moores_Ma...|  120| 51.66666666666667|\n",
      "| 28|  Male|  Celeste Lollis|    PF| 21267|   45|Jeannetta Golden_...|  120|              37.5|\n",
      "| 29|Female|    Elenore Choy|    DB| 32877|   29|Billi Clore_Mitzi...|  120|24.166666666666668|\n",
      "| 28|  Male|  Sheryll Towler|   DSA| 41487|   41|Claude Panos_Judi...|  120|34.166666666666664|\n",
      "| 28|  Male|  Margene Moores|   MVC| 52771|   32|Toshiko Hillyard_...|  120|26.666666666666668|\n",
      "| 28|  Male|     Neda Briski|   OOP| 61973|   69|Alberta Freund_El...|  120| 57.49999999999999|\n",
      "| 28|Female|    Claude Panos| Cloud| 72409|   85|Sheryll Towler_Al...|  120| 70.83333333333334|\n",
      "| 28|  Male|  Celeste Lollis|   MVC| 81492|   64|Nicole Harwood_Cl...|  120|53.333333333333336|\n",
      "| 29|  Male|  Cordie Harnois|   OOP| 92882|   51|Judie Chipps_Clem...|  120|              42.5|\n",
      "| 29|Female|       Kena Wild|   DSA|102285|   35|Dustin Feagins_Ma...|  120|29.166666666666668|\n",
      "| 29|  Male| Ernest Rossbach|    DB|111449|   53|Maybell Duguay_Ab...|  120|44.166666666666664|\n",
      "| 28|Female|  Latia Vanhoose|    DB|122502|   27|Latia Vanhoose_Mi...|  120|              22.5|\n",
      "| 29|Female|  Latia Vanhoose|   MVC|132110|   55|Eda Neathery_Nico...|  120| 45.83333333333333|\n",
      "| 29|  Male|     Neda Briski|    PF|141770|   42|Margene Moores_Mi...|  120|              35.0|\n",
      "| 29|Female|  Latia Vanhoose|    DB|152159|   27|Claude Panos_Sant...|  120|              22.5|\n",
      "| 29|  Male|  Loris Crossett|   MVC|161771|   36|Mitzi Seldon_Jenn...|  120|              30.0|\n",
      "| 29|  Male|  Annika Hoffman|   OOP|171660|   22|Taryn Brownlee_Mi...|  120|18.333333333333332|\n",
      "| 29|  Male|   Santa Kerfien|    PF|182129|   56|Judie Chipps_Tary...|  120|46.666666666666664|\n",
      "| 28|Female|Mickey Cortright|    DB|192537|   62|Ernest Rossbach_M...|  120| 51.66666666666667|\n",
      "+---+------+----------------+------+------+-----+--------------------+-----+------------------+\n",
      "only showing top 20 rows\n",
      "\n"
     ]
    }
   ],
   "source": [
    "dfPercentage.show()"
   ]
  },
  {
   "cell_type": "code",
   "execution_count": 173,
   "id": "174b8a15",
   "metadata": {},
   "outputs": [
    {
     "name": "stdout",
     "output_type": "stream",
     "text": [
      "+---+------+------------------+------+-------+-----+--------------------+-----+-----------------+\n",
      "|age|gender|              name|course|   roll|marks|               email|total|       Percentage|\n",
      "+---+------+------------------+------+-------+-----+--------------------+-----+-----------------+\n",
      "| 28|  Male|    Jenna Montague|   OOP|3331161|   98|Leontine Phillips...|  120|81.66666666666667|\n",
      "| 29|Female|Priscila Tavernier|   OOP|3902993|   99|Celeste Lollis_Bi...|  120|             82.5|\n",
      "| 28|Female|      Judie Chipps|   OOP|5451977|   99|Tamera Blakley_Mi...|  120|             82.5|\n",
      "| 29|  Male|    Margene Moores|   OOP|5621072|   97|Sheryll Towler_Ma...|  120|80.83333333333333|\n",
      "| 29|  Male|      Jc Andrepont|   OOP|8022618|   97|Cordie Harnois_Ja...|  120|80.83333333333333|\n",
      "| 28|  Male|    Loris Crossett|   OOP|8172914|   98|Paris Hutton_Pari...|  120|81.66666666666667|\n",
      "| 28|  Male|    Loris Crossett|   OOP|9692316|   99|Judie Chipps_Mich...|  120|             82.5|\n",
      "+---+------+------------------+------+-------+-----+--------------------+-----+-----------------+\n",
      "\n"
     ]
    }
   ],
   "source": [
    "courses =[\"OOP\"]\n",
    "dfPercentage.filter(dfPercentage.course.isin(courses)).filter(dfPercentage.Percentage > 80).show()"
   ]
  },
  {
   "cell_type": "code",
   "execution_count": 174,
   "id": "551c73c5",
   "metadata": {},
   "outputs": [
    {
     "name": "stdout",
     "output_type": "stream",
     "text": [
      "+---+------+-----------------+------+-------+-----+--------------------+-----+-----------------+\n",
      "|age|gender|             name|course|   roll|marks|               email|total|       Percentage|\n",
      "+---+------+-----------------+------+-------+-----+--------------------+-----+-----------------+\n",
      "| 28|Female|     Claude Panos| Cloud|  72409|   85|Sheryll Towler_Al...|  120|70.83333333333334|\n",
      "| 29|  Male|      Billi Clore| Cloud| 512047|   76|Taryn Brownlee_Ju...|  120|63.33333333333333|\n",
      "| 28|Female|   Somer Stoecker| Cloud| 612490|   82|Sebrina Maresca_G...|  120|68.33333333333333|\n",
      "| 29|Female|     Judie Chipps| Cloud| 632793|   75|Tijuana Kropf_Ele...|  120|             62.5|\n",
      "| 29|Female|     Eda Neathery| Cloud|1011971|   91|Margene Moores_El...|  120|75.83333333333333|\n",
      "| 28|  Male|   Bonita Higuera| Cloud|1312294|   94|Eda Neathery_Pris...|  120|78.33333333333333|\n",
      "| 29|Female|  Hubert Oliveras| Cloud|1392791|   94|Anna Santos_Alber...|  120|78.33333333333333|\n",
      "| 28|Female|      Neda Briski| Cloud|1651303|   74|Ernest Rossbach_D...|  120|61.66666666666667|\n",
      "| 28|Female|   Melani Engberg| Cloud|1872667|   99|Alberta Freund_Ni...|  120|             82.5|\n",
      "| 28|Female|     Paris Hutton| Cloud|2051881|   79|Melani Engberg_Ma...|  120|65.83333333333333|\n",
      "| 28|Female|     Eda Neathery| Cloud|2071302|   95|Latia Vanhoose_Do...|  120|79.16666666666666|\n",
      "| 28|  Male|      Neda Briski| Cloud|2092176|   81|Celeste Lollis_Ma...|  120|             67.5|\n",
      "| 28|Female|    Tijuana Kropf| Cloud|2121632|   78|Michelle Ruggiero...|  120|             65.0|\n",
      "| 28|Female|   Jenna Montague| Cloud|2402240|   96|Annika Hoffman_Du...|  120|             80.0|\n",
      "| 29|Female|   Dustin Feagins| Cloud|2421900|   89|Niki Klimek_Latia...|  120|74.16666666666667|\n",
      "| 28|Female|  Ernest Rossbach| Cloud|2602027|   83|Alberta Freund_Go...|  120|69.16666666666667|\n",
      "| 28|  Male|Leontine Phillips| Cloud|3011586|   76|Dustin Feagins_Al...|  120|63.33333333333333|\n",
      "| 29|Female|  Sebrina Maresca| Cloud|3261159|   97|Maybell Duguay_Ja...|  120|80.83333333333333|\n",
      "| 28|  Male| Clementina Menke| Cloud|3352508|   95|Naoma Fritts_Mick...|  120|79.16666666666666|\n",
      "| 28|  Male|    Kizzy Brenner| Cloud|3581303|   80|Margene Moores_Ta...|  120|66.66666666666666|\n",
      "+---+------+-----------------+------+-------+-----+--------------------+-----+-----------------+\n",
      "only showing top 20 rows\n",
      "\n"
     ]
    }
   ],
   "source": [
    "courses =[\"Cloud\"]\n",
    "dfPercentage.filter(dfPercentage.course.isin(courses)).filter(dfPercentage.Percentage > 60).show()"
   ]
  },
  {
   "cell_type": "code",
   "execution_count": null,
   "id": "a73c154e",
   "metadata": {},
   "outputs": [],
   "source": []
  }
 ],
 "metadata": {
  "kernelspec": {
   "display_name": "Python 3 (ipykernel)",
   "language": "python",
   "name": "python3"
  },
  "language_info": {
   "codemirror_mode": {
    "name": "ipython",
    "version": 3
   },
   "file_extension": ".py",
   "mimetype": "text/x-python",
   "name": "python",
   "nbconvert_exporter": "python",
   "pygments_lexer": "ipython3",
   "version": "3.9.7"
  }
 },
 "nbformat": 4,
 "nbformat_minor": 5
}
