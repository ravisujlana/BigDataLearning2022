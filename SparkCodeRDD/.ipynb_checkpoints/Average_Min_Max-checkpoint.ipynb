{
 "cells": [
  {
   "cell_type": "markdown",
   "id": "58fe971b",
   "metadata": {},
   "source": [
    "exercise to learn average, min and max"
   ]
  },
  {
   "cell_type": "code",
   "execution_count": 3,
   "id": "57fd9722",
   "metadata": {},
   "outputs": [],
   "source": [
    "from pyspark import SparkConf, SparkContext\n",
    "\n",
    "# COMMAND ----------\n",
    "\n",
    "conf = SparkConf().setAppName(\"Average Min and Maz\")\n",
    "\n",
    "sc = SparkContext.getOrCreate(conf=conf)\n",
    "\n",
    "movieRatingRDD = sc.textFile(\"movie_ratings.csv\")\n"
   ]
  },
  {
   "cell_type": "code",
   "execution_count": 4,
   "id": "8afc4f38",
   "metadata": {},
   "outputs": [
    {
     "name": "stdout",
     "output_type": "stream",
     "text": [
      "['The Shawshank Redemption,3', 'The Matrix,5', '12 Angry Men,3', '12 Angry Men,4', 'The Matrix,5', 'Pulp Fiction,4', 'The Godfather,5', 'The Shawshank Redemption,2', 'Pulp Fiction,4', 'The Godfather,5', '12 Angry Men,2', 'The Godfather,3', 'Pulp Fiction,4', '12 Angry Men,1', 'The Shawshank Redemption,2', '12 Angry Men,1', 'The Shawshank Redemption,5', 'Pulp Fiction,5', 'Pulp Fiction,2', 'The Matrix,4']\n"
     ]
    }
   ],
   "source": [
    "print(movieRatingRDD.collect())"
   ]
  },
  {
   "cell_type": "code",
   "execution_count": 14,
   "id": "2f62cb18",
   "metadata": {},
   "outputs": [
    {
     "name": "stdout",
     "output_type": "stream",
     "text": [
      "[('The Shawshank Redemption', (3, 1)), ('The Matrix', (5, 1)), ('12 Angry Men', (3, 1)), ('12 Angry Men', (4, 1)), ('The Matrix', (5, 1)), ('Pulp Fiction', (4, 1)), ('The Godfather', (5, 1)), ('The Shawshank Redemption', (2, 1)), ('Pulp Fiction', (4, 1)), ('The Godfather', (5, 1)), ('12 Angry Men', (2, 1)), ('The Godfather', (3, 1)), ('Pulp Fiction', (4, 1)), ('12 Angry Men', (1, 1)), ('The Shawshank Redemption', (2, 1)), ('12 Angry Men', (1, 1)), ('The Shawshank Redemption', (5, 1)), ('Pulp Fiction', (5, 1)), ('Pulp Fiction', (2, 1)), ('The Matrix', (4, 1))]\n"
     ]
    }
   ],
   "source": [
    "movieRatingRDD1 = movieRatingRDD.map(lambda x:(x.split(',')[0],  (int(x.split(',')[1]),1)  ))\n",
    "print(movieRatingRDD1.collect())"
   ]
  },
  {
   "cell_type": "code",
   "execution_count": 19,
   "id": "36f7c29f",
   "metadata": {},
   "outputs": [
    {
     "name": "stdout",
     "output_type": "stream",
     "text": [
      "[('The Shawshank Redemption', (12, 4)), ('12 Angry Men', (11, 5)), ('The Godfather', (13, 3)), ('The Matrix', (14, 3)), ('Pulp Fiction', (19, 5))]\n"
     ]
    }
   ],
   "source": [
    "ratingSum = movieRatingRDD1.reduceByKey(lambda x,y: (x[0] + y[0], x[1] + y[1]) ) \n",
    "print(ratingSum.collect())"
   ]
  },
  {
   "cell_type": "code",
   "execution_count": 23,
   "id": "48222393",
   "metadata": {},
   "outputs": [
    {
     "name": "stdout",
     "output_type": "stream",
     "text": [
      "[('The Shawshank Redemption', 3.0), ('12 Angry Men', 2.2), ('The Godfather', 4.333333333333333), ('The Matrix', 4.666666666666667), ('Pulp Fiction', 3.8)]\n"
     ]
    }
   ],
   "source": [
    "ratingSumAvg = ratingSum.map(lambda x: (x[0], x[1][0]/ x[1][1]) ) \n",
    "print(ratingSumAvg.collect())"
   ]
  },
  {
   "cell_type": "markdown",
   "id": "d870721b",
   "metadata": {},
   "source": [
    "Min and Max logic"
   ]
  },
  {
   "cell_type": "code",
   "execution_count": 24,
   "id": "4ce12cda",
   "metadata": {},
   "outputs": [
    {
     "name": "stdout",
     "output_type": "stream",
     "text": [
      "[('The Shawshank Redemption', 3), ('The Matrix', 5), ('12 Angry Men', 3), ('12 Angry Men', 4), ('The Matrix', 5), ('Pulp Fiction', 4), ('The Godfather', 5), ('The Shawshank Redemption', 2), ('Pulp Fiction', 4), ('The Godfather', 5), ('12 Angry Men', 2), ('The Godfather', 3), ('Pulp Fiction', 4), ('12 Angry Men', 1), ('The Shawshank Redemption', 2), ('12 Angry Men', 1), ('The Shawshank Redemption', 5), ('Pulp Fiction', 5), ('Pulp Fiction', 2), ('The Matrix', 4)]\n"
     ]
    }
   ],
   "source": [
    "movieRatingRDD1 = movieRatingRDD.map(lambda x:(x.split(',')[0],  (int(x.split(',')[1]))  ))\n",
    "print(movieRatingRDD1.collect())"
   ]
  },
  {
   "cell_type": "code",
   "execution_count": 27,
   "id": "a66595fc",
   "metadata": {},
   "outputs": [
    {
     "name": "stdout",
     "output_type": "stream",
     "text": [
      "[('The Shawshank Redemption', 2), ('12 Angry Men', 1), ('The Godfather', 3), ('The Matrix', 4), ('Pulp Fiction', 2)]\n"
     ]
    }
   ],
   "source": [
    "movieRatingRDDMin = movieRatingRDD1.reduceByKey(lambda x,y: (x if x < y else y))\n",
    "print(movieRatingRDDMin.collect())"
   ]
  },
  {
   "cell_type": "code",
   "execution_count": 29,
   "id": "d8d26f13",
   "metadata": {},
   "outputs": [
    {
     "name": "stdout",
     "output_type": "stream",
     "text": [
      "[('The Shawshank Redemption', 5), ('12 Angry Men', 4), ('The Godfather', 5), ('The Matrix', 5), ('Pulp Fiction', 5)]\n"
     ]
    }
   ],
   "source": [
    "movieRatingRDDMax = movieRatingRDD1.reduceByKey(lambda x,y: (x if x > y else y))\n",
    "print(movieRatingRDDMax.collect())"
   ]
  },
  {
   "cell_type": "code",
   "execution_count": null,
   "id": "57ab22fc",
   "metadata": {},
   "outputs": [],
   "source": []
  }
 ],
 "metadata": {
  "kernelspec": {
   "display_name": "Python 3 (ipykernel)",
   "language": "python",
   "name": "python3"
  },
  "language_info": {
   "codemirror_mode": {
    "name": "ipython",
    "version": 3
   },
   "file_extension": ".py",
   "mimetype": "text/x-python",
   "name": "python",
   "nbconvert_exporter": "python",
   "pygments_lexer": "ipython3",
   "version": "3.9.7"
  }
 },
 "nbformat": 4,
 "nbformat_minor": 5
}
