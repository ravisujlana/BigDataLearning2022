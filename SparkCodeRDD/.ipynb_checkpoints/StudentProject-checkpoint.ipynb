{
 "cells": [
  {
   "cell_type": "markdown",
   "id": "7227f743",
   "metadata": {},
   "source": [
    "Student Project:\n",
    "1. total number of steudents in a file\n",
    "2. total marks by female/male students\n",
    "3. total number of students passed/failed. 50+ = pass\n",
    "4. students enrolled per course\n",
    "5. total marks achieved per course\n",
    "6. min/max marks achieved per course\n",
    "7. avg age of male and female students\n",
    "8. avg marks students achieved per course\n"
   ]
  },
  {
   "cell_type": "code",
   "execution_count": 52,
   "id": "992d2505",
   "metadata": {},
   "outputs": [
    {
     "name": "stdout",
     "output_type": "stream",
     "text": [
      "Total students:1000\n"
     ]
    }
   ],
   "source": [
    "from pyspark import SparkConf, SparkContext\n",
    "\n",
    "# COMMAND ----------\n",
    "\n",
    "conf = SparkConf().setAppName(\"Read File\")\n",
    "\n",
    "sc = SparkContext.getOrCreate(conf=conf)\n",
    "\n",
    "sd = sc.textFile(\"StudentData.csv\")\n",
    "header = sd.first()\n",
    "sdWoHeader = sd.filter(lambda x:x!= header)\n",
    "\n",
    "totStudents = sdWoHeader.count()\n",
    "sdWoHeaderSplit = sdWoHeader.map(lambda x:x.split(','))\n",
    "print(\"Total students:\"+str(totStudents))\n",
    "\n"
   ]
  },
  {
   "cell_type": "code",
   "execution_count": 53,
   "id": "4862be57",
   "metadata": {},
   "outputs": [
    {
     "name": "stdout",
     "output_type": "stream",
     "text": [
      "Marks by student gender: \n",
      "[('Female', 29636), ('Male', 30461)]\n"
     ]
    }
   ],
   "source": [
    "marksByMaleFemale = sdWoHeaderSplit.map(lambda x:(x[1],int(x[5])))\n",
    "print('Marks by student gender: ')\n",
    "print( marksByMaleFemale.reduceByKey(lambda x,y:int(x) + int(y)).collect())\n"
   ]
  },
  {
   "cell_type": "markdown",
   "id": "7751ee0a",
   "metadata": {},
   "source": [
    "Students who passed course => marks greater than 50"
   ]
  },
  {
   "cell_type": "code",
   "execution_count": 70,
   "id": "4fe1bd4a",
   "metadata": {},
   "outputs": [
    {
     "name": "stdout",
     "output_type": "stream",
     "text": [
      "Total number of students who passed: \n",
      "630\n",
      "Total number of students who failed: \n",
      "370\n"
     ]
    }
   ],
   "source": [
    "marksGT50 = marksByMaleFemale.filter(lambda x: x[1] > 50) \n",
    "passCount = marksGT50.count()\n",
    "failCount = totStudents - passCount\n",
    "print('Total number of students who passed: ')\n",
    "print(passCount)\n",
    "print('Total number of students who failed: ')\n",
    "print( failCount)\n"
   ]
  },
  {
   "cell_type": "markdown",
   "id": "373bc99e",
   "metadata": {},
   "source": [
    "Students enrolled per course"
   ]
  },
  {
   "cell_type": "code",
   "execution_count": 71,
   "id": "49331bcd",
   "metadata": {},
   "outputs": [
    {
     "name": "stdout",
     "output_type": "stream",
     "text": [
      "Student enrolled per course: \n",
      "[('DB', 157), ('Cloud', 192), ('PF', 166), ('MVC', 157), ('OOP', 152), ('DSA', 176)]\n"
     ]
    }
   ],
   "source": [
    "studentPerCourse = sdWoHeaderSplit.map(lambda x:(x[3],1))\n",
    "print('Student enrolled per course: ')\n",
    "print( studentPerCourse.reduceByKey(lambda x,y:int(x) + int(y)).collect())\n"
   ]
  },
  {
   "cell_type": "markdown",
   "id": "d8b81ff3",
   "metadata": {},
   "source": [
    "Total marks achieved per course"
   ]
  },
  {
   "cell_type": "code",
   "execution_count": 72,
   "id": "60983bca",
   "metadata": {},
   "outputs": [
    {
     "name": "stdout",
     "output_type": "stream",
     "text": [
      "Total Marks per course : \n",
      "[('DB', 9270), ('Cloud', 11443), ('PF', 9933), ('MVC', 9585), ('OOP', 8916), ('DSA', 10950)]\n"
     ]
    }
   ],
   "source": [
    "totalMarksPerCourse = sdWoHeaderSplit.map(lambda x:(x[3],x[5]))\n",
    "print('Total Marks per course : ')\n",
    "print( totalMarksPerCourse.reduceByKey(lambda x,y:int(x) + int(y)).collect())\n"
   ]
  },
  {
   "cell_type": "markdown",
   "id": "d119e586",
   "metadata": {},
   "source": [
    "Min/Max marks achieved per course"
   ]
  },
  {
   "cell_type": "code",
   "execution_count": 73,
   "id": "11b3e3ed",
   "metadata": {},
   "outputs": [
    {
     "name": "stdout",
     "output_type": "stream",
     "text": [
      "Min Marks per course: \n",
      "[('DB', '20'), ('Cloud', '20'), ('PF', '20'), ('MVC', '22'), ('OOP', '20'), ('DSA', '20')]\n",
      "Max Marks per course: \n",
      "[('DB', '98'), ('Cloud', '99'), ('PF', '99'), ('MVC', '99'), ('OOP', '99'), ('DSA', '99')]\n"
     ]
    }
   ],
   "source": [
    "minMaxMarks = sdWoHeaderSplit.map(lambda x:(x[3],x[5]))\n",
    "print('Min Marks per course: ')\n",
    "print( minMaxMarks.reduceByKey(lambda x,y:(x if x < y else y)).collect())\n",
    "print('Max Marks per course: ')\n",
    "print( minMaxMarks.reduceByKey(lambda x,y:(x if x > y else y)).collect())\n"
   ]
  },
  {
   "cell_type": "markdown",
   "id": "97e91dab",
   "metadata": {},
   "source": [
    "Average marks per course"
   ]
  },
  {
   "cell_type": "code",
   "execution_count": 74,
   "id": "cb80f139",
   "metadata": {},
   "outputs": [
    {
     "name": "stdout",
     "output_type": "stream",
     "text": [
      "[('DB', 59.044585987261144), ('Cloud', 59.598958333333336), ('PF', 59.83734939759036), ('MVC', 61.05095541401274), ('OOP', 58.6578947368421), ('DSA', 62.21590909090909)]\n"
     ]
    }
   ],
   "source": [
    "minMaxMarks = sdWoHeaderSplit.map(lambda x:( x[3], (x[5],1) ) )\n",
    "averageMarks = minMaxMarks.reduceByKey(lambda x,y: (int(x[0]) + int(y[0]) , int(x[1]) + int(y[1])) )\n",
    "averageMarks = averageMarks.map(lambda x: (x[0] , (int(x[1][0]) / int(x[1][1]) )))\n",
    "print(averageMarks.collect())"
   ]
  },
  {
   "cell_type": "markdown",
   "id": "5ecc4d5e",
   "metadata": {},
   "source": [
    "Avg age of male and female students"
   ]
  },
  {
   "cell_type": "code",
   "execution_count": 79,
   "id": "11ae569f",
   "metadata": {},
   "outputs": [
    {
     "name": "stdout",
     "output_type": "stream",
     "text": [
      "[('Female', 28.489021956087825), ('Male', 28.52304609218437)]\n"
     ]
    }
   ],
   "source": [
    "averageAgeByGender = sdWoHeaderSplit.map(lambda x:( x[1], (x[0],1) ) )\n",
    "averageAge = averageAgeByGender.reduceByKey(lambda x,y: (int(x[0]) + int(y[0]) , int(x[1]) + int(y[1])) )\n",
    "averageAge = averageAge.map(lambda x: (x[0] , (int(x[1][0]) / int(x[1][1]) )))\n",
    "print(averageAge.collect())"
   ]
  },
  {
   "cell_type": "markdown",
   "id": "1d30dad2",
   "metadata": {},
   "source": [
    "Avg marks students achieved per course"
   ]
  },
  {
   "cell_type": "code",
   "execution_count": 80,
   "id": "7ae02546",
   "metadata": {},
   "outputs": [
    {
     "name": "stdout",
     "output_type": "stream",
     "text": [
      "[('DB', 59.044585987261144), ('Cloud', 59.598958333333336), ('PF', 59.83734939759036), ('MVC', 61.05095541401274), ('OOP', 58.6578947368421), ('DSA', 62.21590909090909)]\n"
     ]
    }
   ],
   "source": [
    "averageAgeByGender = sdWoHeaderSplit.map(lambda x:( x[3], (x[5],1) ) )\n",
    "averageAge = averageAgeByGender.reduceByKey(lambda x,y: (int(x[0]) + int(y[0]) , int(x[1]) + int(y[1])) )\n",
    "averageAge = averageAge.map(lambda x: (x[0] , (int(x[1][0]) / int(x[1][1]) )))\n",
    "print(averageAge.collect())"
   ]
  },
  {
   "cell_type": "code",
   "execution_count": null,
   "id": "133f1b1f",
   "metadata": {},
   "outputs": [],
   "source": []
  }
 ],
 "metadata": {
  "kernelspec": {
   "display_name": "Python 3 (ipykernel)",
   "language": "python",
   "name": "python3"
  },
  "language_info": {
   "codemirror_mode": {
    "name": "ipython",
    "version": 3
   },
   "file_extension": ".py",
   "mimetype": "text/x-python",
   "name": "python",
   "nbconvert_exporter": "python",
   "pygments_lexer": "ipython3",
   "version": "3.9.7"
  }
 },
 "nbformat": 4,
 "nbformat_minor": 5
}
