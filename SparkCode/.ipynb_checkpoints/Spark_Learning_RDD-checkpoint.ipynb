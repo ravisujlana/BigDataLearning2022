{
 "cells": [
  {
   "cell_type": "code",
   "execution_count": 1,
   "id": "0a23473f",
   "metadata": {},
   "outputs": [],
   "source": [
    "from pyspark import SparkConf, SparkContext\n",
    "\n",
    "# COMMAND ----------\n",
    "\n",
    "conf = SparkConf().setAppName(\"Read File\")\n"
   ]
  },
  {
   "cell_type": "code",
   "execution_count": 15,
   "id": "f1a0d622",
   "metadata": {},
   "outputs": [],
   "source": [
    "sc = SparkContext.getOrCreate(conf=conf)\n",
    "\n",
    "text = sc.textFile(\"FirstNumberFile.txt\")"
   ]
  },
  {
   "cell_type": "markdown",
   "id": "77f172dd",
   "metadata": {},
   "source": [
    "Print by collecting - not to do when data set is large\n"
   ]
  },
  {
   "cell_type": "code",
   "execution_count": 16,
   "id": "f7c30c3a",
   "metadata": {},
   "outputs": [
    {
     "name": "stdout",
     "output_type": "stream",
     "text": [
      "\n",
      "\n",
      "\n",
      "\n",
      "['1 2 3 4 5', '6 7 8 9 10', '11 12 13 14 15', '16 17 18 19 20']\n",
      "\n",
      "\n",
      "\n",
      "\n"
     ]
    }
   ],
   "source": [
    "print('\\n\\n\\n')\n",
    "print(text.collect())\n",
    "print('\\n\\n\\n')"
   ]
  },
  {
   "cell_type": "markdown",
   "id": "53b0ebbf",
   "metadata": {},
   "source": [
    "Split the data"
   ]
  },
  {
   "cell_type": "code",
   "execution_count": 17,
   "id": "287c0464",
   "metadata": {},
   "outputs": [
    {
     "name": "stdout",
     "output_type": "stream",
     "text": [
      "[['1', '2', '3', '4', '5'], ['6', '7', '8', '9', '10'], ['11', '12', '13', '14', '15'], ['16', '17', '18', '19', '20']]\n"
     ]
    }
   ],
   "source": [
    "rdd2 = text.map(lambda x:x.split(' '))\n",
    "print(rdd2.collect())"
   ]
  },
  {
   "cell_type": "markdown",
   "id": "f3a66568",
   "metadata": {},
   "source": [
    "Append the text\n"
   ]
  },
  {
   "cell_type": "code",
   "execution_count": 18,
   "id": "8c3bbebc",
   "metadata": {},
   "outputs": [],
   "source": [
    "rdd3 = text.map(lambda x:(x + ' Test'))"
   ]
  },
  {
   "cell_type": "code",
   "execution_count": 19,
   "id": "20de54a3",
   "metadata": {},
   "outputs": [
    {
     "name": "stdout",
     "output_type": "stream",
     "text": [
      "['1 2 3 4 5 Test', '6 7 8 9 10 Test', '11 12 13 14 15 Test', '16 17 18 19 20 Test']\n"
     ]
    }
   ],
   "source": [
    "print(rdd3.collect())"
   ]
  },
  {
   "cell_type": "markdown",
   "id": "ffb645d5",
   "metadata": {},
   "source": [
    "Next Step - use flatmap to combine\n"
   ]
  },
  {
   "cell_type": "code",
   "execution_count": 20,
   "id": "ee75a096",
   "metadata": {},
   "outputs": [
    {
     "name": "stdout",
     "output_type": "stream",
     "text": [
      "['1', '2', '3', '4', '5', '6', '7', '8', '9', '10', '11', '12', '13', '14', '15', '16', '17', '18', '19', '20']\n"
     ]
    }
   ],
   "source": [
    "flatMap_values = text.flatMap(lambda x:x.split(' '))\n",
    "print(flatMap_values.collect())"
   ]
  },
  {
   "cell_type": "markdown",
   "id": "1df0a6d6",
   "metadata": {},
   "source": [
    "1st function use"
   ]
  },
  {
   "cell_type": "code",
   "execution_count": 21,
   "id": "020517c5",
   "metadata": {},
   "outputs": [
    {
     "name": "stdout",
     "output_type": "stream",
     "text": [
      "[['1', '2', '3', '4', '5'], ['6', '7', '8', '9', '10'], ['11', '12', '13', '14', '15'], ['16', '17', '18', '19', '20']]\n"
     ]
    }
   ],
   "source": [
    "def split(input):\n",
    "  localData = input.split(' ')\n",
    "  return localData\n",
    "\n",
    "rddFunc = text.map(split)\n",
    "print(rddFunc.collect())"
   ]
  },
  {
   "cell_type": "markdown",
   "id": "e55fb4b1",
   "metadata": {},
   "source": [
    "Use function to add a number"
   ]
  },
  {
   "cell_type": "code",
   "execution_count": 22,
   "id": "340444ba",
   "metadata": {},
   "outputs": [
    {
     "name": "stdout",
     "output_type": "stream",
     "text": [
      "[[4, 5, 6, 7, 8], [9, 10, 11, 12, 13], [14, 15, 16, 17, 18], [19, 20, 21, 22, 23]]\n"
     ]
    }
   ],
   "source": [
    "def splitAndAdd(input):\n",
    "  localData = input.split(' ')\n",
    "  l2 = []\n",
    "  for i in localData:\n",
    "      l2.append(int(i) + 3)\n",
    "  return l2\n",
    "\n",
    "rddFuncAdd = text.map(splitAndAdd)\n",
    "print(rddFuncAdd.collect())"
   ]
  },
  {
   "cell_type": "markdown",
   "id": "1b852a22",
   "metadata": {},
   "source": [
    "Calculate the length of text in a file and output the length"
   ]
  },
  {
   "cell_type": "code",
   "execution_count": 23,
   "id": "4130c7e8",
   "metadata": {},
   "outputs": [
    {
     "name": "stdout",
     "output_type": "stream",
     "text": [
      "[[2, 3, 3, 4], [4, 3, 3, 5, 5], [6]]\n"
     ]
    }
   ],
   "source": [
    "stringInput = sc.textFile(\"StringInput.txt\")\n",
    "\n",
    "def countLength(input):\n",
    "  l1 = input.split(' ')\n",
    "  l2 = []\n",
    "  for i in l1:\n",
    "    l2.append(len(i))\n",
    "  return l2\n",
    "\n",
    "rddStringInput = stringInput.map(countLength)\n",
    "\n",
    "print(rddStringInput.collect())"
   ]
  },
  {
   "cell_type": "markdown",
   "id": "772e7c40",
   "metadata": {},
   "source": [
    "Do same using lambda"
   ]
  },
  {
   "cell_type": "code",
   "execution_count": 24,
   "id": "998036ef",
   "metadata": {},
   "outputs": [
    {
     "name": "stdout",
     "output_type": "stream",
     "text": [
      "[[2, 3, 3, 4], [4, 3, 3, 5, 5], [6]]\n"
     ]
    }
   ],
   "source": [
    "rddStringLambda = stringInput.map(lambda x:[len(s) for s in x.split(' ')])\n",
    "print(rddStringLambda.collect())"
   ]
  },
  {
   "cell_type": "markdown",
   "id": "53432bc1",
   "metadata": {},
   "source": [
    "Let's try to filter data"
   ]
  },
  {
   "cell_type": "code",
   "execution_count": 36,
   "id": "f89f162b",
   "metadata": {},
   "outputs": [
    {
     "name": "stdout",
     "output_type": "stream",
     "text": [
      "[0, 1, 2, 3, 4, 5, 6, 7, 8, 9, 10, 11, 12, 13, 14, 15, 16, 17, 18, 19]\n"
     ]
    }
   ],
   "source": [
    "num = list(range(0,1000))\n",
    "rddFilter = sc.parallelize(num)\n",
    "print(rddFilter.take(20))"
   ]
  },
  {
   "cell_type": "code",
   "execution_count": 39,
   "id": "831318d9",
   "metadata": {},
   "outputs": [
    {
     "name": "stdout",
     "output_type": "stream",
     "text": [
      "[0, 1, 4, 9, 16, 25, 36, 49, 64, 81, 100, 121, 144, 169, 196, 225, 256, 289, 324, 361]\n"
     ]
    }
   ],
   "source": [
    "numSq = rddFilter.map(lambda x:(x**2))\n",
    "print(numSq.take(20))"
   ]
  },
  {
   "cell_type": "code",
   "execution_count": 44,
   "id": "cd68fa4c",
   "metadata": {},
   "outputs": [
    {
     "name": "stdout",
     "output_type": "stream",
     "text": [
      "[(0, 1), (1, 1), (4, 1), (9, 1), (16, 2), (25, 2), (36, 2), (49, 2), (64, 2), (81, 2), (100, 3), (121, 3), (144, 3), (169, 3), (196, 3), (225, 3), (256, 3), (289, 3), (324, 3), (361, 3)]\n"
     ]
    }
   ],
   "source": [
    "numSqCount = numSq.map(lambda x:(x,len(str(x))))\n",
    "print(numSqCount.take(20))"
   ]
  },
  {
   "cell_type": "code",
   "execution_count": 53,
   "id": "151c0a5b",
   "metadata": {},
   "outputs": [
    {
     "name": "stdout",
     "output_type": "stream",
     "text": [
      "[(1, 0), (1, 1), (1, 4), (1, 9), (2, 16), (2, 25), (2, 36), (2, 49), (2, 64), (2, 81), (3, 100), (3, 121), (3, 144), (3, 169), (3, 196), (3, 225), (3, 256), (3, 289), (3, 324), (3, 361)]\n"
     ]
    }
   ],
   "source": [
    "numSqCountFlip = numSqCount.map(lambda x:(x[1],x[0]))\n",
    "print(numSqCountFlip.take(20))"
   ]
  },
  {
   "cell_type": "markdown",
   "id": "da53cfc5",
   "metadata": {},
   "source": [
    "1. Group by Key\n",
    "2. Map by and convert to list\n",
    "3. Filter if not divisible by 2\n",
    "4. print the 1st 3 elements"
   ]
  },
  {
   "cell_type": "code",
   "execution_count": 63,
   "id": "a31a9877",
   "metadata": {},
   "outputs": [
    {
     "name": "stdout",
     "output_type": "stream",
     "text": [
      "[(1, [0, 1, 4, 9]), (3, [100, 121, 144, 169, 196, 225, 256, 289, 324, 361, 400, 441, 484, 529, 576, 625, 676, 729, 784, 841, 900, 961]), (5, [10000, 10201, 10404, 10609, 10816, 11025, 11236, 11449, 11664, 11881, 12100, 12321, 12544, 12769, 12996, 13225, 13456, 13689, 13924, 14161, 14400, 14641, 14884, 15129, 15376, 15625, 15876, 16129, 16384, 16641, 16900, 17161, 17424, 17689, 17956, 18225, 18496, 18769, 19044, 19321, 19600, 19881, 20164, 20449, 20736, 21025, 21316, 21609, 21904, 22201, 22500, 22801, 23104, 23409, 23716, 24025, 24336, 24649, 24964, 25281, 25600, 25921, 26244, 26569, 26896, 27225, 27556, 27889, 28224, 28561, 28900, 29241, 29584, 29929, 30276, 30625, 30976, 31329, 31684, 32041, 32400, 32761, 33124, 33489, 33856, 34225, 34596, 34969, 35344, 35721, 36100, 36481, 36864, 37249, 37636, 38025, 38416, 38809, 39204, 39601, 40000, 40401, 40804, 41209, 41616, 42025, 42436, 42849, 43264, 43681, 44100, 44521, 44944, 45369, 45796, 46225, 46656, 47089, 47524, 47961, 48400, 48841, 49284, 49729, 50176, 50625, 51076, 51529, 51984, 52441, 52900, 53361, 53824, 54289, 54756, 55225, 55696, 56169, 56644, 57121, 57600, 58081, 58564, 59049, 59536, 60025, 60516, 61009, 61504, 62001, 62500, 63001, 63504, 64009, 64516, 65025, 65536, 66049, 66564, 67081, 67600, 68121, 68644, 69169, 69696, 70225, 70756, 71289, 71824, 72361, 72900, 73441, 73984, 74529, 75076, 75625, 76176, 76729, 77284, 77841, 78400, 78961, 79524, 80089, 80656, 81225, 81796, 82369, 82944, 83521, 84100, 84681, 85264, 85849, 86436, 87025, 87616, 88209, 88804, 89401, 90000, 90601, 91204, 91809, 92416, 93025, 93636, 94249, 94864, 95481, 96100, 96721, 97344, 97969, 98596, 99225, 99856])]\n"
     ]
    }
   ],
   "source": [
    "numSqCountGroup = numSqCountFlip.groupByKey().map(lambda x:(x[0],list(x[1]))).filter(lambda x:(x[0]%2 ==1))\n",
    "print(numSqCountGroup.take(3))\n"
   ]
  },
  {
   "cell_type": "code",
   "execution_count": null,
   "id": "6d193c11",
   "metadata": {},
   "outputs": [],
   "source": []
  }
 ],
 "metadata": {
  "kernelspec": {
   "display_name": "Python 3 (ipykernel)",
   "language": "python",
   "name": "python3"
  },
  "language_info": {
   "codemirror_mode": {
    "name": "ipython",
    "version": 3
   },
   "file_extension": ".py",
   "mimetype": "text/x-python",
   "name": "python",
   "nbconvert_exporter": "python",
   "pygments_lexer": "ipython3",
   "version": "3.9.7"
  }
 },
 "nbformat": 4,
 "nbformat_minor": 5
}
