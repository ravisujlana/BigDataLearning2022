{
 "cells": [
  {
   "cell_type": "code",
   "execution_count": 2,
   "id": "3c6c4c2c",
   "metadata": {},
   "outputs": [
    {
     "ename": "SyntaxError",
     "evalue": "invalid syntax (758959486.py, line 1)",
     "output_type": "error",
     "traceback": [
      "\u001b[0;36m  File \u001b[0;32m\"/var/folders/wl/nplnnx850h75f8zx_g31cl_w0000gn/T/ipykernel_9270/758959486.py\"\u001b[0;36m, line \u001b[0;32m1\u001b[0m\n\u001b[0;31m    Learn to use reduce by key\u001b[0m\n\u001b[0m          ^\u001b[0m\n\u001b[0;31mSyntaxError\u001b[0m\u001b[0;31m:\u001b[0m invalid syntax\n"
     ]
    }
   ],
   "source": [
    "Learn to use reduce by key"
   ]
  },
  {
   "cell_type": "code",
   "execution_count": 4,
   "id": "d4016948",
   "metadata": {},
   "outputs": [],
   "source": [
    "from pyspark import SparkConf, SparkContext\n",
    "\n",
    "# COMMAND ----------\n",
    "\n",
    "conf = SparkConf().setAppName(\"Read File\")\n",
    "\n",
    "sc = SparkContext.getOrCreate(conf=conf)\n",
    "\n",
    "rdd = sc.textFile(\"RandomReduceByKey.txt\")"
   ]
  },
  {
   "cell_type": "markdown",
   "id": "2d302fc6",
   "metadata": {},
   "source": [
    "Convert to a flatmap"
   ]
  },
  {
   "cell_type": "code",
   "execution_count": 8,
   "id": "e9f6d9b7",
   "metadata": {},
   "outputs": [
    {
     "name": "stdout",
     "output_type": "stream",
     "text": [
      "['Hi', 'How', 'are', 'you', 'Hope', 'you', 'are', 'doing', 'well', 'Great', 'This', 'is', 'great', 'This', 'is', 'Awesome', 'Awesome', 'is', 'something', 'new', 'New', 'is', 'something', 'awesome']\n"
     ]
    }
   ],
   "source": [
    "rdd2 = rdd.flatMap(lambda x:x.split(' '))\n",
    "print(rdd2.collect())"
   ]
  },
  {
   "cell_type": "markdown",
   "id": "2656af73",
   "metadata": {},
   "source": [
    "convert to a map with count"
   ]
  },
  {
   "cell_type": "code",
   "execution_count": 9,
   "id": "0c6fb263",
   "metadata": {},
   "outputs": [],
   "source": [
    "rdd3 = rdd2.map(lambda x:(x,1))"
   ]
  },
  {
   "cell_type": "code",
   "execution_count": 13,
   "id": "90fdfa09",
   "metadata": {},
   "outputs": [
    {
     "name": "stdout",
     "output_type": "stream",
     "text": [
      "[('Hi', 1), ('How', 1), ('are', 1), ('you', 1), ('Hope', 1), ('you', 1), ('are', 1), ('doing', 1), ('well', 1), ('Great', 1), ('This', 1), ('is', 1), ('great', 1), ('This', 1), ('is', 1), ('Awesome', 1), ('Awesome', 1), ('is', 1), ('something', 1), ('new', 1), ('New', 1), ('is', 1), ('something', 1), ('awesome', 1)]\n"
     ]
    }
   ],
   "source": [
    "print(rdd3.collect())"
   ]
  },
  {
   "cell_type": "code",
   "execution_count": 14,
   "id": "97d9a51f",
   "metadata": {},
   "outputs": [
    {
     "name": "stdout",
     "output_type": "stream",
     "text": [
      "[('Hi', 1), ('are', 2), ('Great', 1), ('is', 4), ('something', 2), ('new', 1), ('New', 1), ('awesome', 1), ('How', 1), ('you', 2), ('Hope', 1), ('doing', 1), ('well', 1), ('This', 2), ('great', 1), ('Awesome', 2)]\n"
     ]
    }
   ],
   "source": [
    "rddReduceByKey = rdd3.reduceByKey(lambda x,y: x+y)\n",
    "print(rddReduceByKey.collect())"
   ]
  },
  {
   "cell_type": "markdown",
   "id": "cca7516c",
   "metadata": {},
   "source": [
    "change to lower case"
   ]
  },
  {
   "cell_type": "code",
   "execution_count": 15,
   "id": "ee99c4c9",
   "metadata": {},
   "outputs": [],
   "source": [
    "rdd3Lower = rdd2.map(lambda x:(x.lower(),1))"
   ]
  },
  {
   "cell_type": "code",
   "execution_count": 16,
   "id": "c9037304",
   "metadata": {},
   "outputs": [
    {
     "name": "stdout",
     "output_type": "stream",
     "text": [
      "[('hi', 1), ('how', 1), ('are', 1), ('you', 1), ('hope', 1), ('you', 1), ('are', 1), ('doing', 1), ('well', 1), ('great', 1), ('this', 1), ('is', 1), ('great', 1), ('this', 1), ('is', 1), ('awesome', 1), ('awesome', 1), ('is', 1), ('something', 1), ('new', 1), ('new', 1), ('is', 1), ('something', 1), ('awesome', 1)]\n"
     ]
    }
   ],
   "source": [
    "print(rdd3Lower.collect())"
   ]
  },
  {
   "cell_type": "code",
   "execution_count": 18,
   "id": "8469f4a2",
   "metadata": {},
   "outputs": [
    {
     "name": "stdout",
     "output_type": "stream",
     "text": [
      "[('are', 2), ('this', 2), ('is', 4), ('awesome', 3), ('something', 2), ('new', 2), ('hi', 1), ('how', 1), ('you', 2), ('hope', 1), ('doing', 1), ('well', 1), ('great', 2)]\n"
     ]
    }
   ],
   "source": [
    "rddReduceLower = rdd3Lower.reduceByKey(lambda x,y: x+y)\n",
    "print(rddReduceLower.collect())"
   ]
  },
  {
   "cell_type": "code",
   "execution_count": 19,
   "id": "2264edb1",
   "metadata": {},
   "outputs": [
    {
     "name": "stdout",
     "output_type": "stream",
     "text": [
      "13\n"
     ]
    }
   ],
   "source": [
    "print(rddReduceLower.count())"
   ]
  },
  {
   "cell_type": "code",
   "execution_count": 26,
   "id": "93ebdd02",
   "metadata": {},
   "outputs": [
    {
     "name": "stdout",
     "output_type": "stream",
     "text": [
      "defaultdict(<class 'int'>, {'Hi': 1, 'How': 1, 'are': 2, 'you': 2, 'Hope': 1, 'doing': 1, 'well': 1, 'Great': 1, 'This': 2, 'is': 4, 'great': 1, 'Awesome': 2, 'something': 2, 'new': 1, 'New': 1, 'awesome': 1})\n"
     ]
    }
   ],
   "source": [
    "print(rdd2.countByValue())"
   ]
  },
  {
   "cell_type": "code",
   "execution_count": 27,
   "id": "ba07c903",
   "metadata": {},
   "outputs": [
    {
     "name": "stdout",
     "output_type": "stream",
     "text": [
      "defaultdict(<class 'int'>, {('hi', 1): 1, ('how', 1): 1, ('are', 1): 2, ('you', 1): 2, ('hope', 1): 1, ('doing', 1): 1, ('well', 1): 1, ('great', 1): 2, ('this', 1): 2, ('is', 1): 4, ('awesome', 1): 3, ('something', 1): 2, ('new', 1): 2})\n"
     ]
    }
   ],
   "source": [
    "print(rdd3Lower.countByValue())"
   ]
  },
  {
   "cell_type": "code",
   "execution_count": 31,
   "id": "552eefd5",
   "metadata": {},
   "outputs": [],
   "source": [
    "rdd3Lower.repartition(3)\n",
    "rdd3Lower.saveAsTextFile('3PartitionTest')\n"
   ]
  },
  {
   "cell_type": "code",
   "execution_count": 32,
   "id": "85344384",
   "metadata": {},
   "outputs": [
    {
     "name": "stdout",
     "output_type": "stream",
     "text": [
      "[\"('awesome', 1)\", \"('is', 1)\", \"('something', 1)\", \"('new', 1)\", \"('new', 1)\", \"('is', 1)\", \"('something', 1)\", \"('awesome', 1)\", \"('hi', 1)\", \"('how', 1)\", \"('are', 1)\", \"('you', 1)\", \"('hope', 1)\", \"('you', 1)\", \"('are', 1)\", \"('doing', 1)\", \"('well', 1)\", \"('great', 1)\", \"('this', 1)\", \"('is', 1)\", \"('great', 1)\", \"('this', 1)\", \"('is', 1)\", \"('awesome', 1)\"]\n"
     ]
    }
   ],
   "source": [
    "partReadFrom = sc.textFile(\"3PartitionTest\")\n",
    "print(partReadFrom.collect())"
   ]
  },
  {
   "cell_type": "code",
   "execution_count": 37,
   "id": "2be82628",
   "metadata": {},
   "outputs": [
    {
     "name": "stdout",
     "output_type": "stream",
     "text": [
      "[\"('awesome', 1)\", \"('is', 1)\", \"('something', 1)\", \"('new', 1)\", \"('new', 1)\", \"('is', 1)\", \"('something', 1)\", \"('awesome', 1)\", \"('hi', 1)\", \"('how', 1)\", \"('are', 1)\", \"('you', 1)\", \"('hope', 1)\", \"('you', 1)\", \"('are', 1)\", \"('doing', 1)\", \"('well', 1)\", \"('great', 1)\", \"('this', 1)\", \"('is', 1)\", \"('great', 1)\", \"('this', 1)\", \"('is', 1)\", \"('awesome', 1)\"]\n"
     ]
    }
   ],
   "source": [
    "partReadFromMap = partReadFrom.map(lambda x:x.strip('\"'))\n",
    "print(partReadFromMap.collect())"
   ]
  },
  {
   "cell_type": "code",
   "execution_count": null,
   "id": "5dd7832b",
   "metadata": {},
   "outputs": [],
   "source": []
  },
  {
   "cell_type": "code",
   "execution_count": null,
   "id": "49b49075",
   "metadata": {},
   "outputs": [],
   "source": []
  }
 ],
 "metadata": {
  "kernelspec": {
   "display_name": "Python 3 (ipykernel)",
   "language": "python",
   "name": "python3"
  },
  "language_info": {
   "codemirror_mode": {
    "name": "ipython",
    "version": 3
   },
   "file_extension": ".py",
   "mimetype": "text/x-python",
   "name": "python",
   "nbconvert_exporter": "python",
   "pygments_lexer": "ipython3",
   "version": "3.9.7"
  }
 },
 "nbformat": 4,
 "nbformat_minor": 5
}
