{
 "cells": [
  {
   "cell_type": "code",
   "execution_count": 5,
   "id": "19fd12ea",
   "metadata": {},
   "outputs": [
    {
     "name": "stderr",
     "output_type": "stream",
     "text": [
      "22/01/25 15:00:36 WARN ResolveWriteToStream: Temporary checkpoint location created which is deleted normally when the query didn't fail: /private/var/folders/wl/nplnnx850h75f8zx_g31cl_w0000gn/T/temporary-3dd3965d-7ea3-4ed6-bf40-61548022a6b0. If it's required to delete it under any circumstances, please set spark.sql.streaming.forceDeleteTempCheckpointLocation to true. Important to know deleting temp checkpoint folder is best effort.\n",
      "22/01/25 15:00:36 WARN ResolveWriteToStream: spark.sql.adaptive.enabled is not supported in streaming DataFrames/Datasets and will be disabled.\n",
      "                                                                                \r"
     ]
    },
    {
     "name": "stdout",
     "output_type": "stream",
     "text": [
      "-------------------------------------------\n",
      "Batch: 0\n",
      "-------------------------------------------\n",
      "+------+-----+\n",
      "| value|count|\n",
      "+------+-----+\n",
      "|   Mic|   30|\n",
      "| Chair|   45|\n",
      "|  Book|   15|\n",
      "|Laptop|   15|\n",
      "|   Bag|   15|\n",
      "|Mobile|   15|\n",
      "| Apple|   30|\n",
      "+------+-----+\n",
      "\n"
     ]
    },
    {
     "name": "stderr",
     "output_type": "stream",
     "text": [
      "                                                                                \r"
     ]
    },
    {
     "name": "stdout",
     "output_type": "stream",
     "text": [
      "-------------------------------------------\n",
      "Batch: 0\n",
      "-------------------------------------------\n",
      "+------+-----+\n",
      "| value|count|\n",
      "+------+-----+\n",
      "|   Mic|   30|\n",
      "| Chair|   45|\n",
      "|  Book|   15|\n",
      "|Laptop|   15|\n",
      "|   Bag|   15|\n",
      "|Mobile|   15|\n",
      "| Apple|   30|\n",
      "+------+-----+\n",
      "\n"
     ]
    },
    {
     "name": "stderr",
     "output_type": "stream",
     "text": [
      "22/01/25 15:42:23 WARN HeartbeatReceiver: Removing executor driver with no recent heartbeats: 136244 ms exceeds timeout 120000 ms\n",
      "22/01/25 15:42:23 WARN SparkContext: Killing executors is not supported by current scheduler.\n"
     ]
    }
   ],
   "source": [
    "from pyspark.sql import SparkSession\n",
    "spark = SparkSession.builder.appName(\"Sparking Streaming DF\").getOrCreate()\n",
    "word = spark.readStream.text(\"./tables\")\n",
    "word = word.groupBy(\"value\").count()\n",
    "stream = word.writeStream.format(\"console\").outputMode(\"complete\").start()\n",
    "\n",
    "stream.awaitTermination()"
   ]
  },
  {
   "cell_type": "code",
   "execution_count": null,
   "id": "02a34591",
   "metadata": {},
   "outputs": [],
   "source": []
  }
 ],
 "metadata": {
  "kernelspec": {
   "display_name": "Python 3 (ipykernel)",
   "language": "python",
   "name": "python3"
  },
  "language_info": {
   "codemirror_mode": {
    "name": "ipython",
    "version": 3
   },
   "file_extension": ".py",
   "mimetype": "text/x-python",
   "name": "python",
   "nbconvert_exporter": "python",
   "pygments_lexer": "ipython3",
   "version": "3.9.7"
  }
 },
 "nbformat": 4,
 "nbformat_minor": 5
}
